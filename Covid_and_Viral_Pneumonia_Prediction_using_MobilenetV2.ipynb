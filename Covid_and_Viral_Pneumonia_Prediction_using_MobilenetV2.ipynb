{
  "nbformat": 4,
  "nbformat_minor": 0,
  "metadata": {
    "colab": {
      "provenance": [],
      "include_colab_link": true
    },
    "kernelspec": {
      "name": "python3",
      "display_name": "Python 3"
    },
    "language_info": {
      "name": "python"
    },
    "accelerator": "GPU"
  },
  "cells": [
    {
      "cell_type": "markdown",
      "metadata": {
        "id": "view-in-github",
        "colab_type": "text"
      },
      "source": [
        "<a href=\"https://colab.research.google.com/github/parvezmosaraf/Machine-Learning-Project/blob/main/Covid_and_Viral_Pneumonia_Prediction_using_MobilenetV2.ipynb\" target=\"_parent\"><img src=\"https://colab.research.google.com/assets/colab-badge.svg\" alt=\"Open In Colab\"/></a>"
      ]
    },
    {
      "cell_type": "code",
      "source": [
        "from google.colab import drive\n",
        "drive.mount('/content/drive')"
      ],
      "metadata": {
        "colab": {
          "base_uri": "https://localhost:8080/"
        },
        "id": "4J8HTuLL6_vn",
        "outputId": "80666298-f359-43ae-ea55-3ae2a34731f5"
      },
      "execution_count": null,
      "outputs": [
        {
          "output_type": "stream",
          "name": "stdout",
          "text": [
            "Drive already mounted at /content/drive; to attempt to forcibly remount, call drive.mount(\"/content/drive\", force_remount=True).\n"
          ]
        }
      ]
    },
    {
      "cell_type": "code",
      "source": [
        "import tensorflow as tf\n",
        "from tensorflow.keras.layers import Input, Lambda, Dense, Flatten\n",
        "from tensorflow.keras.models import Model\n",
        "from tensorflow.keras.preprocessing import image\n",
        "from tensorflow.keras.preprocessing.image import ImageDataGenerator,load_img\n",
        "from tensorflow.keras.models import Sequential\n",
        "import numpy as np\n",
        "from glob import glob\n",
        "import datetime as dt\n",
        "import matplotlib.pyplot as plt"
      ],
      "metadata": {
        "id": "_UddPGlg7Sgw"
      },
      "execution_count": null,
      "outputs": []
    },
    {
      "cell_type": "code",
      "source": [
        "IMAGE_SHAPE = (224, 224,3)\n",
        "\n",
        "train_path = '/content/drive/MyDrive/jishan defence/Covid19-dataset/train'\n",
        "test_path = '/content/drive/MyDrive/jishan defence/Covid19-dataset/test'"
      ],
      "metadata": {
        "id": "Q9nSxj037Sdc"
      },
      "execution_count": null,
      "outputs": []
    },
    {
      "cell_type": "code",
      "source": [
        "from tensorflow.keras.preprocessing.image import ImageDataGenerator\n",
        "\n",
        "train_datagen = ImageDataGenerator(rescale = 1./255,\n",
        "                                   zoom_range = 0.2,\n",
        "                                   rotation_range=10,\n",
        "                                   brightness_range=[0.5, 1.5],\n",
        "                                   vertical_flip=False,\n",
        "                                   horizontal_flip = False)\n",
        "\n",
        "test_datagen = ImageDataGenerator(rescale = 1./255)"
      ],
      "metadata": {
        "id": "NrAiKX1G7SaQ"
      },
      "execution_count": null,
      "outputs": []
    },
    {
      "cell_type": "code",
      "source": [
        "training_set = train_datagen.flow_from_directory(train_path,\n",
        "                                                 target_size = (224, 224),\n",
        "                                                 batch_size = 32,\n",
        "                                                 class_mode = 'categorical')"
      ],
      "metadata": {
        "colab": {
          "base_uri": "https://localhost:8080/"
        },
        "id": "B4bfmXSO7SXE",
        "outputId": "ca31bd7d-b2b4-4e28-f1ee-4a34d84adf63"
      },
      "execution_count": null,
      "outputs": [
        {
          "output_type": "stream",
          "name": "stdout",
          "text": [
            "Found 251 images belonging to 3 classes.\n"
          ]
        }
      ]
    },
    {
      "cell_type": "code",
      "source": [
        "test_set = test_datagen.flow_from_directory(test_path,\n",
        "                                            target_size = (224, 224),\n",
        "                                            batch_size = 32,\n",
        "                                            class_mode = 'categorical',\n",
        "                                            shuffle =False)"
      ],
      "metadata": {
        "colab": {
          "base_uri": "https://localhost:8080/"
        },
        "id": "De83g_497STk",
        "outputId": "b0a7d7db-52d3-4b74-a0de-d74cd57e95ff"
      },
      "execution_count": null,
      "outputs": [
        {
          "output_type": "stream",
          "name": "stdout",
          "text": [
            "Found 66 images belonging to 3 classes.\n"
          ]
        }
      ]
    },
    {
      "cell_type": "code",
      "source": [
        "\n",
        "dense = tf.keras.applications.mobilenet_v2.MobileNetV2(input_shape=(224,224,3), weights='imagenet', include_top=False) #MobileNetV2 model algorithom download\n",
        "\n",
        "for layer in dense.layers:\n",
        "    layer.trainable = False\n",
        "\n",
        "x = Flatten()(dense.output)\n",
        "prediction = Dense(3, activation='softmax')(x) #customize the model with our dataset\n",
        "model = Model(inputs=dense.input, outputs=prediction)\n",
        "\n",
        "model.compile( #compiling our customize model\n",
        "  loss='categorical_crossentropy',\n",
        "  optimizer='adam',\n",
        "  metrics=['accuracy']\n",
        ")\n",
        "\n",
        "callbacks = [tf.keras.callbacks.TensorBoard(log_dir='log/{}'.format(dt.datetime.now().strftime(\"%Y-%m-%d-%H-%M-%S\")))]"
      ],
      "metadata": {
        "colab": {
          "base_uri": "https://localhost:8080/"
        },
        "id": "QmI2f72l7SQH",
        "outputId": "b3cdfe14-477c-4bde-9e73-89a2fcf3bd32"
      },
      "execution_count": null,
      "outputs": [
        {
          "output_type": "stream",
          "name": "stdout",
          "text": [
            "Downloading data from https://storage.googleapis.com/tensorflow/keras-applications/mobilenet_v2/mobilenet_v2_weights_tf_dim_ordering_tf_kernels_1.0_224_no_top.h5\n",
            "9412608/9406464 [==============================] - 0s 0us/step\n",
            "9420800/9406464 [==============================] - 0s 0us/step\n"
          ]
        }
      ]
    },
    {
      "cell_type": "code",
      "source": [
        "h=model.fit(\n",
        "  training_set,\n",
        "  validation_data=test_set,\n",
        "  batch_size=32, #data train korbe 8 ta kore ekbare\n",
        "  epochs=25, #hole data ke total 20 bar train korano hoi\n",
        "  \n",
        ")"
      ],
      "metadata": {
        "colab": {
          "base_uri": "https://localhost:8080/"
        },
        "id": "Jy0f41Jp7SMn",
        "outputId": "f13d5f13-fc52-42ec-9fe0-8aaf7351bf1c"
      },
      "execution_count": null,
      "outputs": [
        {
          "output_type": "stream",
          "name": "stdout",
          "text": [
            "Epoch 1/25\n",
            "8/8 [==============================] - 14s 2s/step - loss: 0.0219 - accuracy: 0.9920 - val_loss: 0.6860 - val_accuracy: 0.9091\n",
            "Epoch 2/25\n",
            "8/8 [==============================] - 14s 2s/step - loss: 0.0868 - accuracy: 0.9880 - val_loss: 0.2778 - val_accuracy: 0.9394\n",
            "Epoch 3/25\n",
            "8/8 [==============================] - 14s 2s/step - loss: 0.0017 - accuracy: 1.0000 - val_loss: 0.3888 - val_accuracy: 0.9545\n",
            "Epoch 4/25\n",
            "8/8 [==============================] - 14s 2s/step - loss: 0.0862 - accuracy: 0.9880 - val_loss: 0.2601 - val_accuracy: 0.9545\n",
            "Epoch 5/25\n",
            "8/8 [==============================] - 13s 2s/step - loss: 0.0123 - accuracy: 0.9960 - val_loss: 0.5417 - val_accuracy: 0.9394\n",
            "Epoch 6/25\n",
            "8/8 [==============================] - 13s 2s/step - loss: 0.1472 - accuracy: 0.9801 - val_loss: 1.0106 - val_accuracy: 0.8939\n",
            "Epoch 7/25\n",
            "8/8 [==============================] - 14s 2s/step - loss: 0.1425 - accuracy: 0.9920 - val_loss: 0.4981 - val_accuracy: 0.9545\n",
            "Epoch 8/25\n",
            "8/8 [==============================] - 14s 2s/step - loss: 0.1238 - accuracy: 0.9841 - val_loss: 0.3655 - val_accuracy: 0.9545\n",
            "Epoch 9/25\n",
            "8/8 [==============================] - 14s 2s/step - loss: 0.0443 - accuracy: 0.9960 - val_loss: 0.7505 - val_accuracy: 0.9242\n",
            "Epoch 10/25\n",
            "8/8 [==============================] - 13s 2s/step - loss: 0.0077 - accuracy: 0.9960 - val_loss: 0.8949 - val_accuracy: 0.9091\n",
            "Epoch 11/25\n",
            "8/8 [==============================] - 14s 2s/step - loss: 0.0509 - accuracy: 0.9960 - val_loss: 0.9628 - val_accuracy: 0.9091\n",
            "Epoch 12/25\n",
            "8/8 [==============================] - 13s 2s/step - loss: 3.0935e-04 - accuracy: 1.0000 - val_loss: 0.4512 - val_accuracy: 0.9394\n",
            "Epoch 13/25\n",
            "8/8 [==============================] - 13s 2s/step - loss: 0.0100 - accuracy: 0.9920 - val_loss: 0.4438 - val_accuracy: 0.9242\n",
            "Epoch 14/25\n",
            "8/8 [==============================] - 14s 2s/step - loss: 0.0012 - accuracy: 1.0000 - val_loss: 0.8264 - val_accuracy: 0.9242\n",
            "Epoch 15/25\n",
            "8/8 [==============================] - 14s 2s/step - loss: 0.0614 - accuracy: 0.9920 - val_loss: 0.2296 - val_accuracy: 0.9394\n",
            "Epoch 16/25\n",
            "8/8 [==============================] - 13s 2s/step - loss: 0.0100 - accuracy: 0.9960 - val_loss: 0.4687 - val_accuracy: 0.9394\n",
            "Epoch 17/25\n",
            "8/8 [==============================] - 13s 2s/step - loss: 0.0171 - accuracy: 0.9960 - val_loss: 0.3945 - val_accuracy: 0.9394\n",
            "Epoch 18/25\n",
            "8/8 [==============================] - 13s 2s/step - loss: 0.0172 - accuracy: 0.9960 - val_loss: 0.8164 - val_accuracy: 0.8939\n",
            "Epoch 19/25\n",
            "8/8 [==============================] - 13s 2s/step - loss: 0.0031 - accuracy: 1.0000 - val_loss: 0.8215 - val_accuracy: 0.8939\n",
            "Epoch 20/25\n",
            "8/8 [==============================] - 13s 2s/step - loss: 0.0176 - accuracy: 0.9920 - val_loss: 0.3024 - val_accuracy: 0.9394\n",
            "Epoch 21/25\n",
            "8/8 [==============================] - 13s 2s/step - loss: 1.1361e-05 - accuracy: 1.0000 - val_loss: 0.4874 - val_accuracy: 0.9545\n",
            "Epoch 22/25\n",
            "8/8 [==============================] - 13s 2s/step - loss: 0.0775 - accuracy: 0.9920 - val_loss: 0.2782 - val_accuracy: 0.9545\n",
            "Epoch 23/25\n",
            "8/8 [==============================] - 13s 2s/step - loss: 0.0310 - accuracy: 0.9920 - val_loss: 0.3272 - val_accuracy: 0.9697\n",
            "Epoch 24/25\n",
            "8/8 [==============================] - 13s 2s/step - loss: 8.5095e-05 - accuracy: 1.0000 - val_loss: 0.4791 - val_accuracy: 0.9394\n",
            "Epoch 25/25\n",
            "8/8 [==============================] - 14s 2s/step - loss: 0.0077 - accuracy: 0.9960 - val_loss: 0.2604 - val_accuracy: 0.9545\n"
          ]
        }
      ]
    },
    {
      "cell_type": "code",
      "source": [
        "loss,test_accuracy =model.evaluate(test_set)\n",
        "print('Accuracy on test:', test_accuracy)"
      ],
      "metadata": {
        "colab": {
          "base_uri": "https://localhost:8080/"
        },
        "id": "SrHABlvv7SIy",
        "outputId": "f49fa6e0-9a56-4a06-cade-aae652823a72"
      },
      "execution_count": null,
      "outputs": [
        {
          "output_type": "stream",
          "name": "stdout",
          "text": [
            "3/3 [==============================] - 1s 419ms/step - loss: 0.2604 - accuracy: 0.9545\n",
            "Accuracy on test: 0.9545454382896423\n"
          ]
        }
      ]
    },
    {
      "cell_type": "code",
      "source": [
        "from sklearn.metrics import classification_report, confusion_matrix\n",
        "import seaborn as sns\n",
        "# T0 print the Classification Report\n",
        "y_pred =model.predict(test_set)\n",
        "y_pred = np.argmax(y_pred, axis=1)\n",
        "print(classification_report(test_set.classes, y_pred))"
      ],
      "metadata": {
        "colab": {
          "base_uri": "https://localhost:8080/"
        },
        "id": "H-BjRD5B7SFp",
        "outputId": "c71b88ac-f6a6-4e20-be6c-c5b0250020e6"
      },
      "execution_count": null,
      "outputs": [
        {
          "output_type": "stream",
          "name": "stdout",
          "text": [
            "              precision    recall  f1-score   support\n",
            "\n",
            "           0       1.00      1.00      1.00        26\n",
            "           1       0.95      0.90      0.92        20\n",
            "           2       0.90      0.95      0.93        20\n",
            "\n",
            "    accuracy                           0.95        66\n",
            "   macro avg       0.95      0.95      0.95        66\n",
            "weighted avg       0.96      0.95      0.95        66\n",
            "\n"
          ]
        }
      ]
    },
    {
      "cell_type": "code",
      "source": [
        "# To print the Confusion Matrix\n",
        "cf_matrix = confusion_matrix(test_set.classes,y_pred)\n",
        "Labels = ['Covid','Normal','Viral Pneumonia']\n",
        "plt.figure(figsize=(8, 8))\n",
        "heatmap = sns.heatmap(cf_matrix, xticklabels=Labels, yticklabels=Labels, annot=True, fmt='d', color='blue')\n",
        "plt.xlabel('Predicted Class')\n",
        "plt.ylabel('True Class')\n",
        "plt.title('Confusion Matrix')\n",
        "plt.show()"
      ],
      "metadata": {
        "colab": {
          "base_uri": "https://localhost:8080/",
          "height": 513
        },
        "id": "zXIArrjt7SCN",
        "outputId": "e9f0c1e8-dcf5-43c3-98c4-5deda32befec"
      },
      "execution_count": null,
      "outputs": [
        {
          "output_type": "display_data",
          "data": {
            "text/plain": [
              "<Figure size 576x576 with 2 Axes>"
            ],
            "image/png": "[encoded data removed]"
          },
          "metadata": {
            "needs_background": "light"
          }
        }
      ]
    },
    {
      "cell_type": "code",
      "source": [
        "import matplotlib\n",
        "import matplotlib.pyplot as plt\n",
        "import matplotlib.cm as cm"
      ],
      "metadata": {
        "id": "1YXcknqhfeGP"
      },
      "execution_count": null,
      "outputs": []
    },
    {
      "cell_type": "code",
      "source": [
        "# plot the training loss and accuracy\n",
        "N = epochs=25\n",
        "plt.style.use(\"ggplot\")\n",
        "plt.figure()\n",
        "plt.plot(np.arange(0, N), h.history[\"loss\"], label=\"train_loss\")\n",
        "#plt.plot(np.arange(0, N), h.history[\"val_loss\"], label=\"val_loss\")\n",
        "#plt.plot(np.arange(0, N), h.history[\"accuracy\"], label=\"train_acc\")\n",
        "plt.plot(np.arange(0, N), h.history[\"val_accuracy\"], label=\"val_acc\")\n",
        "plt.title(\"Training Loss and Accuracy\")\n",
        "plt.xlabel(\"Epoch #\")\n",
        "plt.ylabel(\"Loss/Accuracy\")\n",
        "plt.legend(loc=\"lower left\")\n",
        "plt.savefig(\"plot.png\")"
      ],
      "metadata": {
        "colab": {
          "base_uri": "https://localhost:8080/",
          "height": 299
        },
        "id": "O7EdR__37R-p",
        "outputId": "b2fba155-203a-4d8d-cdba-e851d4580fbb"
      },
      "execution_count": null,
      "outputs": [
        {
          "output_type": "display_data",
          "data": {
            "text/plain": [
              "<Figure size 432x288 with 1 Axes>"
            ],
            "image/png": "[encoded data removed]"
          },
          "metadata": {}
        }
      ]
    },
    {
      "cell_type": "code",
      "source": [],
      "metadata": {
        "id": "7Sirapti-KWx"
      },
      "execution_count": null,
      "outputs": []
    }
  ]
}