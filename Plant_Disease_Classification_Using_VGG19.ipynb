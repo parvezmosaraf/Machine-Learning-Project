{
  "nbformat": 4,
  "nbformat_minor": 0,
  "metadata": {
    "colab": {
      "provenance": []
    },
    "kernelspec": {
      "name": "python3",
      "display_name": "Python 3"
    },
    "language_info": {
      "name": "python"
    },
    "accelerator": "GPU",
    "gpuClass": "standard"
  },
  "cells": [
    {
      "cell_type": "code",
      "execution_count": null,
      "metadata": {
        "id": "-TCX5SbReZ7I"
      },
      "outputs": [],
      "source": [
        "from tensorflow.keras.layers import Input, Lambda, Dense, Flatten\n",
        "from tensorflow.keras.models import Model\n",
        "#from tensorflow.keras.applications.inception_v3 import InceptionV3\n",
        "from tensorflow.keras.applications.resnet_v2 import ResNet152V2, preprocess_input\n",
        "from tensorflow.keras.preprocessing import image\n",
        "from tensorflow.keras.preprocessing.image import ImageDataGenerator,load_img\n",
        "from tensorflow.keras.models import Sequential\n",
        "import numpy as np\n",
        "from glob import glob\n",
        "#from tensorflow.keras.applications.mobilenet_v3 import MobileNetV3\n",
        "import matplotlib.pyplot as plt\n",
        "from tensorflow.keras.applications.vgg19 import VGG19"
      ]
    },
    {
      "cell_type": "code",
      "source": [
        "IMAGE_SIZE = [224, 224]\n",
        "\n",
        "train_path = '/content/drive/MyDrive/plant village dataset-custom'\n",
        "valid_path = '/content/drive/MyDrive/plant village dataset-custom'"
      ],
      "metadata": {
        "id": "hzs5BGaZeabo"
      },
      "execution_count": null,
      "outputs": []
    },
    {
      "cell_type": "code",
      "source": [
        "vgg19 = VGG19(input_shape=IMAGE_SIZE + [3], weights='imagenet', include_top=False)"
      ],
      "metadata": {
        "id": "f5AoRN7ieaeF"
      },
      "execution_count": null,
      "outputs": []
    },
    {
      "cell_type": "code",
      "source": [
        "for layer in vgg19.layers:\n",
        "    layer.trainable = False"
      ],
      "metadata": {
        "id": "ZYCL6FTueagt"
      },
      "execution_count": null,
      "outputs": []
    },
    {
      "cell_type": "code",
      "source": [
        "folders = glob('/content/drive/MyDrive/plant village dataset-custom/*')"
      ],
      "metadata": {
        "id": "91Fn7KMveakx"
      },
      "execution_count": null,
      "outputs": []
    },
    {
      "cell_type": "code",
      "source": [
        "x = Flatten()(vgg19.output)"
      ],
      "metadata": {
        "id": "mC0ZDIPyeanY"
      },
      "execution_count": null,
      "outputs": []
    },
    {
      "cell_type": "code",
      "source": [
        "prediction = Dense(len(folders), activation='softmax')(x)\n",
        "model = Model(inputs=vgg19.input, outputs=prediction)\n"
      ],
      "metadata": {
        "id": "o7h_DaXbeapm"
      },
      "execution_count": null,
      "outputs": []
    },
    {
      "cell_type": "code",
      "source": [
        "model.summary()\n"
      ],
      "metadata": {
        "colab": {
          "base_uri": "https://localhost:8080/"
        },
        "id": "IRTrDQ1rear-",
        "outputId": "d7b71784-567f-4f08-bfa0-8c9426772806"
      },
      "execution_count": null,
      "outputs": [
        {
          "output_type": "stream",
          "name": "stdout",
          "text": [
            "Model: \"model\"\n",
            "_________________________________________________________________\n",
            " Layer (type)                Output Shape              Param #   \n",
            "=================================================================\n",
            " input_1 (InputLayer)        [(None, 224, 224, 3)]     0         \n",
            "                                                                 \n",
            " block1_conv1 (Conv2D)       (None, 224, 224, 64)      1792      \n",
            "                                                                 \n",
            " block1_conv2 (Conv2D)       (None, 224, 224, 64)      36928     \n",
            "                                                                 \n",
            " block1_pool (MaxPooling2D)  (None, 112, 112, 64)      0         \n",
            "                                                                 \n",
            " block2_conv1 (Conv2D)       (None, 112, 112, 128)     73856     \n",
            "                                                                 \n",
            " block2_conv2 (Conv2D)       (None, 112, 112, 128)     147584    \n",
            "                                                                 \n",
            " block2_pool (MaxPooling2D)  (None, 56, 56, 128)       0         \n",
            "                                                                 \n",
            " block3_conv1 (Conv2D)       (None, 56, 56, 256)       295168    \n",
            "                                                                 \n",
            " block3_conv2 (Conv2D)       (None, 56, 56, 256)       590080    \n",
            "                                                                 \n",
            " block3_conv3 (Conv2D)       (None, 56, 56, 256)       590080    \n",
            "                                                                 \n",
            " block3_conv4 (Conv2D)       (None, 56, 56, 256)       590080    \n",
            "                                                                 \n",
            " block3_pool (MaxPooling2D)  (None, 28, 28, 256)       0         \n",
            "                                                                 \n",
            " block4_conv1 (Conv2D)       (None, 28, 28, 512)       1180160   \n",
            "                                                                 \n",
            " block4_conv2 (Conv2D)       (None, 28, 28, 512)       2359808   \n",
            "                                                                 \n",
            " block4_conv3 (Conv2D)       (None, 28, 28, 512)       2359808   \n",
            "                                                                 \n",
            " block4_conv4 (Conv2D)       (None, 28, 28, 512)       2359808   \n",
            "                                                                 \n",
            " block4_pool (MaxPooling2D)  (None, 14, 14, 512)       0         \n",
            "                                                                 \n",
            " block5_conv1 (Conv2D)       (None, 14, 14, 512)       2359808   \n",
            "                                                                 \n",
            " block5_conv2 (Conv2D)       (None, 14, 14, 512)       2359808   \n",
            "                                                                 \n",
            " block5_conv3 (Conv2D)       (None, 14, 14, 512)       2359808   \n",
            "                                                                 \n",
            " block5_conv4 (Conv2D)       (None, 14, 14, 512)       2359808   \n",
            "                                                                 \n",
            " block5_pool (MaxPooling2D)  (None, 7, 7, 512)         0         \n",
            "                                                                 \n",
            " flatten (Flatten)           (None, 25088)             0         \n",
            "                                                                 \n",
            " dense (Dense)               (None, 12)                301068    \n",
            "                                                                 \n",
            "=================================================================\n",
            "Total params: 20,325,452\n",
            "Trainable params: 301,068\n",
            "Non-trainable params: 20,024,384\n",
            "_________________________________________________________________\n"
          ]
        }
      ]
    },
    {
      "cell_type": "code",
      "source": [
        "model.compile(\n",
        "  loss='categorical_crossentropy',\n",
        "  optimizer='adam',\n",
        "  metrics=['accuracy']\n",
        ")"
      ],
      "metadata": {
        "id": "eyfO6KRXeauI"
      },
      "execution_count": null,
      "outputs": []
    },
    {
      "cell_type": "code",
      "source": [
        "from tensorflow.keras.preprocessing.image import ImageDataGenerator\n",
        "\n",
        "train_datagen = ImageDataGenerator(rescale = 1./255,\n",
        "                                   shear_range = 0.2,\n",
        "                                   zoom_range = 0.2,\n",
        "                                   horizontal_flip = True)\n",
        "\n",
        "test_datagen = ImageDataGenerator(rescale = 1./255)\n"
      ],
      "metadata": {
        "id": "hxExCrI0eawh"
      },
      "execution_count": null,
      "outputs": []
    },
    {
      "cell_type": "code",
      "source": [
        "training_set = train_datagen.flow_from_directory('/content/drive/MyDrive/plant village dataset-custom',\n",
        "                                                 target_size = (224, 224),\n",
        "                                                 batch_size = 64,\n",
        "                                                 class_mode = 'categorical')"
      ],
      "metadata": {
        "colab": {
          "base_uri": "https://localhost:8080/"
        },
        "id": "X6Ix7604eazK",
        "outputId": "0d89e939-9c2d-450c-c5f1-0cea82ffe428"
      },
      "execution_count": null,
      "outputs": [
        {
          "output_type": "stream",
          "name": "stdout",
          "text": [
            "Found 1530 images belonging to 12 classes.\n"
          ]
        }
      ]
    },
    {
      "cell_type": "code",
      "source": [
        "test_set = test_datagen.flow_from_directory('/content/drive/MyDrive/plant village dataset-custom',\n",
        "                                            target_size = (224, 224),\n",
        "                                            batch_size = 64,\n",
        "                                            class_mode = 'categorical')\n"
      ],
      "metadata": {
        "colab": {
          "base_uri": "https://localhost:8080/"
        },
        "id": "_cvQ7lITea1m",
        "outputId": "3bf1fb99-976e-4e33-8759-1cb74d2a4ae0"
      },
      "execution_count": null,
      "outputs": [
        {
          "output_type": "stream",
          "name": "stdout",
          "text": [
            "Found 1530 images belonging to 12 classes.\n"
          ]
        }
      ]
    },
    {
      "cell_type": "code",
      "source": [
        "r = model.fit_generator(\n",
        "  training_set,\n",
        "  validation_data=test_set,\n",
        "  epochs=2,\n",
        "  steps_per_epoch=len(training_set),\n",
        "  validation_steps=len(test_set)\n",
        ")"
      ],
      "metadata": {
        "colab": {
          "base_uri": "https://localhost:8080/"
        },
        "id": "Arr9ycpmea4A",
        "outputId": "986ce18f-fdc4-4a29-b07d-76c24db6047d"
      },
      "execution_count": null,
      "outputs": [
        {
          "output_type": "stream",
          "name": "stderr",
          "text": [
            "<ipython-input-13-962440d9f58c>:1: UserWarning: `Model.fit_generator` is deprecated and will be removed in a future version. Please use `Model.fit`, which supports generators.\n",
            "  r = model.fit_generator(\n"
          ]
        },
        {
          "output_type": "stream",
          "name": "stdout",
          "text": [
            "Epoch 1/2\n",
            "24/24 [==============================] - 1853s 78s/step - loss: 1.8318 - accuracy: 0.4438 - val_loss: 0.7651 - val_accuracy: 0.7320\n",
            "Epoch 2/2\n",
            "24/24 [==============================] - 1825s 78s/step - loss: 0.6335 - accuracy: 0.7954 - val_loss: 0.4037 - val_accuracy: 0.8725\n"
          ]
        }
      ]
    },
    {
      "cell_type": "code",
      "source": [
        "plt.plot(r.history['loss'], label='train loss')\n",
        "plt.plot(r.history['val_loss'], label='val loss')\n",
        "plt.legend()\n",
        "plt.show()\n",
        "plt.savefig('LossVal_loss')\n",
        "plt.plot(r.history['accuracy'], label='train acc')\n",
        "plt.plot(r.history['val_accuracy'], label='val acc')\n",
        "plt.legend()\n",
        "plt.show()\n",
        "plt.savefig('AccVal_acc')"
      ],
      "metadata": {
        "id": "hNUdvNZ7ea6e",
        "colab": {
          "base_uri": "https://localhost:8080/",
          "height": 531
        },
        "outputId": "aa8350ce-ae51-44eb-8833-1e7ffc61df0a"
      },
      "execution_count": null,
      "outputs": [
        {
          "output_type": "display_data",
          "data": {
            "text/plain": [
              "<Figure size 432x288 with 1 Axes>"
            ],
            "image/png": "[encoded data removed]"
          },
          "metadata": {
            "needs_background": "light"
          }
        },
        {
          "output_type": "display_data",
          "data": {
            "text/plain": [
              "<Figure size 432x288 with 1 Axes>"
            ],
            "image/png": "[encoded data removed]"
          },
          "metadata": {
            "needs_background": "light"
          }
        },
        {
          "output_type": "display_data",
          "data": {
            "text/plain": [
              "<Figure size 432x288 with 0 Axes>"
            ]
          },
          "metadata": {}
        }
      ]
    },
    {
      "cell_type": "code",
      "source": [
        "from tensorflow.keras.models import load_model\n",
        "\n",
        "model.save('/content/drive/MyDrive/Plant Doc Dataset-Yolo V7/vgg19model.h5')"
      ],
      "metadata": {
        "id": "JV_-D1sFea9G"
      },
      "execution_count": null,
      "outputs": []
    },
    {
      "cell_type": "code",
      "source": [
        "y_pred = model.predict(test_set)"
      ],
      "metadata": {
        "id": "DMi_qaFDea_5",
        "colab": {
          "base_uri": "https://localhost:8080/"
        },
        "outputId": "e0e6bb80-ada2-4c4f-fec4-cd8cbfef1fd3"
      },
      "execution_count": null,
      "outputs": [
        {
          "output_type": "stream",
          "name": "stdout",
          "text": [
            "24/24 [==============================] - 885s 37s/step\n"
          ]
        }
      ]
    },
    {
      "cell_type": "code",
      "source": [
        "model.accuracy"
      ],
      "metadata": {
        "id": "tuB3bXI94Mpu"
      },
      "execution_count": null,
      "outputs": []
    },
    {
      "cell_type": "code",
      "source": [
        "y_pred"
      ],
      "metadata": {
        "id": "C30jj_bEebCB",
        "colab": {
          "base_uri": "https://localhost:8080/"
        },
        "outputId": "62ee9deb-5d61-478c-9b64-f9f75ee42b0a"
      },
      "execution_count": null,
      "outputs": [
        {
          "output_type": "execute_result",
          "data": {
            "text/plain": [
              "array([[1.0186223e-01, 1.2187439e-02, 2.5199022e-02, ..., 1.9353550e-02,\n",
              "        1.4673067e-06, 1.9361858e-03],\n",
              "       [2.4611926e-01, 5.6201746e-03, 3.4320708e-02, ..., 3.1913099e-01,\n",
              "        4.6345112e-03, 9.3249930e-03],\n",
              "       [1.9458175e-03, 6.8164576e-04, 8.2248845e-04, ..., 2.5757829e-02,\n",
              "        2.8339140e-03, 2.4389324e-03],\n",
              "       ...,\n",
              "       [8.0773756e-02, 6.0583828e-03, 1.5014005e-02, ..., 5.6292094e-02,\n",
              "        2.9255130e-04, 1.9695295e-02],\n",
              "       [6.1939478e-05, 1.4565693e-05, 7.2911098e-05, ..., 1.8389581e-02,\n",
              "        2.4719338e-04, 9.7927058e-01],\n",
              "       [1.7382834e-02, 1.7711993e-02, 1.9513860e-01, ..., 9.5383197e-02,\n",
              "        1.2367740e-05, 4.7468193e-02]], dtype=float32)"
            ]
          },
          "metadata": {},
          "execution_count": 17
        }
      ]
    },
    {
      "cell_type": "code",
      "source": [
        "import numpy as np\n",
        "y_pred = np.argmax(y_pred, axis=1)"
      ],
      "metadata": {
        "id": "hDxfTHOFebEi"
      },
      "execution_count": null,
      "outputs": []
    },
    {
      "cell_type": "code",
      "source": [
        "y_pred\n",
        "l=['apple scab','apple black rot','cedar apple rust','apple healthy','blueberry healthy','cherry powdery mildew','cherry healthy','corn cercospora leaf gray leaf spot','corn common rust','corn northern leaf blight','corn healthy','grape black rot','grape black measles','grape leaf blight','grape healthy','orange haunglongbing',\n",
        "      'peach bacterial spot','peach healthy','pepper bell Bacterial spot','pepper bell healthy','potato early blight','potato late blight','potato healthy','raspberry healthy','soybean healthy','squash powdery mildew','strawberry leaf scotch','strawberry healthy','tomato bacterial spot','tomato early blight','tomato late blight','tomato leaf mold','tomato septoria leaf spot','tomato spider mites two spotted spider mite',\n",
        "      'tomato target spot','Tomato yellow leaf curl virus','tomato mosaic virus','tomato healthy']\n",
        "for i in y_pred:\n",
        "     print(l[i], end=' ')"
      ],
      "metadata": {
        "id": "50tE1baIebG6",
        "colab": {
          "base_uri": "https://localhost:8080/"
        },
        "outputId": "cf7a7c92-5e39-45c1-9a62-f4dd67d409fd"
      },
      "execution_count": null,
      "outputs": [
        {
          "output_type": "stream",
          "name": "stdout",
          "text": [
            "cherry healthy corn northern leaf blight corn common rust grape black rot corn cercospora leaf gray leaf spot corn healthy apple scab apple healthy apple healthy cherry healthy cedar apple rust cedar apple rust corn northern leaf blight apple black rot corn healthy cedar apple rust corn northern leaf blight cherry powdery mildew cherry powdery mildew cherry powdery mildew cherry healthy cedar apple rust grape black rot apple black rot cherry powdery mildew cherry healthy apple healthy cedar apple rust corn common rust corn cercospora leaf gray leaf spot apple scab apple scab grape black rot apple scab corn healthy cherry powdery mildew grape black rot corn northern leaf blight apple black rot corn northern leaf blight grape black rot corn healthy cedar apple rust apple healthy apple black rot cherry powdery mildew apple healthy blueberry healthy apple black rot grape black rot corn healthy blueberry healthy corn northern leaf blight corn northern leaf blight apple healthy corn northern leaf blight cherry healthy apple scab cherry healthy cherry powdery mildew grape black rot blueberry healthy grape black rot corn northern leaf blight corn common rust apple black rot cherry powdery mildew blueberry healthy corn northern leaf blight apple healthy apple healthy corn healthy grape black rot corn healthy cherry powdery mildew apple black rot corn northern leaf blight cedar apple rust apple scab cedar apple rust grape black rot cherry powdery mildew cherry powdery mildew cherry healthy corn common rust corn northern leaf blight cedar apple rust apple scab corn common rust corn healthy apple black rot cherry powdery mildew corn cercospora leaf gray leaf spot cherry healthy corn northern leaf blight apple healthy apple scab grape black rot corn northern leaf blight apple black rot apple black rot corn northern leaf blight cherry healthy cherry powdery mildew apple healthy cedar apple rust cherry powdery mildew grape black rot apple scab apple healthy cherry powdery mildew cherry powdery mildew blueberry healthy cherry powdery mildew blueberry healthy corn healthy corn northern leaf blight corn cercospora leaf gray leaf spot cedar apple rust apple healthy cherry healthy corn common rust cedar apple rust apple scab grape black rot grape black rot corn northern leaf blight cherry healthy corn healthy apple scab corn northern leaf blight corn healthy cherry healthy blueberry healthy cherry powdery mildew corn healthy blueberry healthy cherry powdery mildew corn healthy apple scab apple scab corn common rust corn northern leaf blight cedar apple rust cedar apple rust cedar apple rust apple black rot blueberry healthy cherry powdery mildew corn northern leaf blight cedar apple rust grape black rot cherry powdery mildew corn common rust grape black rot cherry powdery mildew cherry healthy corn northern leaf blight corn northern leaf blight apple black rot cedar apple rust apple scab corn common rust cherry powdery mildew apple scab corn northern leaf blight cedar apple rust corn healthy apple scab grape black rot corn healthy apple healthy cherry healthy cedar apple rust corn northern leaf blight corn northern leaf blight apple scab corn common rust grape black rot corn common rust corn common rust grape black rot cherry powdery mildew cedar apple rust apple black rot corn common rust cherry healthy corn cercospora leaf gray leaf spot corn common rust blueberry healthy apple scab cedar apple rust cherry healthy corn northern leaf blight apple healthy cedar apple rust apple scab corn healthy blueberry healthy corn common rust apple scab apple healthy cherry healthy apple scab corn northern leaf blight apple scab apple scab blueberry healthy corn northern leaf blight apple scab cherry powdery mildew apple scab corn northern leaf blight grape black rot apple healthy cherry powdery mildew apple scab corn cercospora leaf gray leaf spot cherry powdery mildew corn common rust cherry healthy cherry powdery mildew corn common rust cherry powdery mildew apple black rot cherry healthy apple black rot corn common rust cherry healthy cherry powdery mildew corn healthy corn northern leaf blight cherry powdery mildew grape black rot apple black rot corn cercospora leaf gray leaf spot grape black rot cedar apple rust cedar apple rust grape black rot cherry powdery mildew grape black rot cedar apple rust cherry powdery mildew cherry powdery mildew blueberry healthy cherry powdery mildew cherry powdery mildew apple scab apple black rot cherry powdery mildew apple scab corn common rust apple scab corn common rust corn common rust cherry powdery mildew grape black rot cherry powdery mildew corn healthy corn northern leaf blight apple scab corn northern leaf blight cedar apple rust apple black rot cherry powdery mildew apple scab cherry healthy corn common rust cherry healthy cherry powdery mildew corn common rust apple scab cherry healthy corn northern leaf blight corn common rust apple healthy cedar apple rust apple scab apple scab cherry healthy apple black rot cherry powdery mildew grape black rot cherry powdery mildew apple healthy cherry healthy corn northern leaf blight corn northern leaf blight cherry powdery mildew corn common rust cherry powdery mildew corn common rust corn northern leaf blight blueberry healthy grape black rot grape black rot cedar apple rust corn common rust corn northern leaf blight apple black rot apple scab apple healthy apple scab corn common rust apple scab corn healthy grape black rot cherry powdery mildew apple scab apple black rot corn cercospora leaf gray leaf spot grape black rot apple black rot corn common rust corn healthy apple healthy apple scab corn healthy cherry healthy corn common rust apple scab cherry powdery mildew cedar apple rust cedar apple rust grape black rot corn healthy apple black rot cherry powdery mildew corn healthy corn common rust cherry powdery mildew cherry powdery mildew cherry powdery mildew apple scab corn healthy apple scab blueberry healthy blueberry healthy grape black rot apple black rot apple black rot cherry healthy corn northern leaf blight apple scab cherry healthy apple black rot corn common rust apple scab cherry healthy blueberry healthy grape black rot cherry healthy grape black rot apple scab grape black rot grape black rot corn northern leaf blight corn common rust grape black rot corn cercospora leaf gray leaf spot apple black rot apple scab apple scab corn northern leaf blight apple black rot grape black rot cherry powdery mildew apple healthy corn northern leaf blight blueberry healthy cherry powdery mildew apple black rot corn common rust apple healthy corn northern leaf blight apple scab corn healthy blueberry healthy corn cercospora leaf gray leaf spot cherry powdery mildew cherry powdery mildew cedar apple rust corn northern leaf blight cherry healthy cherry powdery mildew corn common rust apple scab corn common rust apple scab apple scab grape black rot apple scab apple black rot apple healthy apple scab apple scab corn common rust cedar apple rust cherry healthy corn healthy cedar apple rust cherry powdery mildew apple scab cherry powdery mildew corn common rust cherry powdery mildew corn northern leaf blight cherry powdery mildew cedar apple rust blueberry healthy corn common rust apple scab corn healthy apple scab apple healthy cherry powdery mildew apple black rot cedar apple rust corn healthy grape black rot apple scab corn northern leaf blight corn northern leaf blight cherry healthy cherry powdery mildew apple scab apple scab grape black rot apple healthy apple scab cherry healthy cherry healthy corn common rust grape black rot apple healthy cherry powdery mildew apple healthy grape black rot corn healthy cedar apple rust corn cercospora leaf gray leaf spot cherry powdery mildew blueberry healthy corn northern leaf blight corn northern leaf blight apple scab corn common rust corn common rust corn northern leaf blight cedar apple rust cedar apple rust apple black rot cedar apple rust corn healthy apple scab apple black rot apple black rot corn northern leaf blight corn cercospora leaf gray leaf spot grape black rot apple healthy cherry powdery mildew apple scab apple scab cherry powdery mildew corn northern leaf blight grape black rot apple scab corn common rust corn northern leaf blight cherry healthy corn cercospora leaf gray leaf spot grape black rot corn common rust cherry powdery mildew apple black rot apple black rot cherry healthy grape black rot grape black rot corn common rust apple scab cherry powdery mildew corn common rust grape black rot corn cercospora leaf gray leaf spot cedar apple rust apple scab corn northern leaf blight apple healthy corn northern leaf blight corn common rust cherry healthy corn common rust cedar apple rust cedar apple rust cedar apple rust cherry powdery mildew apple healthy apple black rot apple scab grape black rot cherry powdery mildew cedar apple rust apple black rot cedar apple rust cherry powdery mildew apple scab grape black rot grape black rot corn northern leaf blight grape black rot corn cercospora leaf gray leaf spot apple scab cedar apple rust apple scab cherry healthy cherry powdery mildew cedar apple rust grape black rot corn common rust apple black rot cherry powdery mildew cedar apple rust grape black rot cherry powdery mildew apple healthy cherry healthy cedar apple rust apple scab cedar apple rust cedar apple rust cherry healthy grape black rot apple scab cedar apple rust apple scab apple healthy apple black rot cedar apple rust corn common rust blueberry healthy grape black rot cedar apple rust grape black rot apple black rot cherry healthy cedar apple rust apple scab blueberry healthy apple scab apple black rot cherry healthy grape black rot apple healthy apple black rot cedar apple rust corn northern leaf blight apple healthy cherry powdery mildew apple scab corn common rust cedar apple rust grape black rot apple scab apple scab apple black rot cherry powdery mildew apple scab apple healthy blueberry healthy apple scab grape black rot cherry healthy cherry powdery mildew cherry healthy blueberry healthy blueberry healthy cherry powdery mildew cedar apple rust cherry healthy apple scab cedar apple rust corn common rust corn healthy apple healthy cherry powdery mildew grape black rot cherry powdery mildew corn healthy apple black rot grape black rot corn common rust apple scab grape black rot apple black rot corn common rust cedar apple rust corn common rust corn northern leaf blight apple scab corn common rust blueberry healthy apple scab grape black rot grape black rot corn northern leaf blight apple scab cedar apple rust corn common rust apple scab cherry powdery mildew corn common rust apple black rot corn common rust grape black rot grape black rot apple scab cherry powdery mildew corn healthy corn common rust apple healthy apple healthy grape black rot cedar apple rust corn common rust grape black rot apple black rot corn healthy grape black rot grape black rot apple scab corn northern leaf blight grape black rot apple healthy apple black rot grape black rot apple scab corn common rust apple healthy cherry powdery mildew apple scab corn cercospora leaf gray leaf spot cherry powdery mildew apple healthy corn healthy corn northern leaf blight cherry powdery mildew corn healthy corn healthy apple scab corn northern leaf blight apple scab cherry powdery mildew cherry healthy corn common rust cherry powdery mildew apple scab cherry powdery mildew apple scab grape black rot corn northern leaf blight apple scab apple black rot cherry powdery mildew cedar apple rust corn common rust apple scab grape black rot corn northern leaf blight cherry powdery mildew corn healthy cherry powdery mildew apple scab grape black rot cherry healthy apple scab apple scab grape black rot apple scab cherry powdery mildew grape black rot corn healthy corn common rust apple scab corn healthy cedar apple rust corn northern leaf blight corn northern leaf blight grape black rot corn common rust corn northern leaf blight apple black rot apple black rot corn common rust cedar apple rust cherry powdery mildew cherry powdery mildew apple healthy apple black rot apple scab cherry powdery mildew cherry healthy apple black rot cherry healthy cherry powdery mildew cedar apple rust corn northern leaf blight blueberry healthy apple black rot cedar apple rust cherry powdery mildew cherry powdery mildew corn common rust blueberry healthy cherry powdery mildew apple scab apple scab cedar apple rust corn northern leaf blight grape black rot corn healthy cherry powdery mildew cherry powdery mildew corn northern leaf blight apple scab cherry powdery mildew corn northern leaf blight corn common rust apple healthy corn healthy corn northern leaf blight apple healthy apple scab corn northern leaf blight corn northern leaf blight apple healthy corn common rust apple healthy apple scab corn northern leaf blight apple black rot cedar apple rust grape black rot corn northern leaf blight cedar apple rust cherry powdery mildew cherry powdery mildew apple healthy grape black rot apple black rot apple scab apple healthy corn common rust apple black rot cherry powdery mildew cherry powdery mildew cherry powdery mildew cedar apple rust cedar apple rust cherry powdery mildew corn common rust grape black rot corn common rust apple scab cherry healthy corn cercospora leaf gray leaf spot corn healthy corn northern leaf blight apple black rot grape black rot corn cercospora leaf gray leaf spot cherry powdery mildew apple scab grape black rot cherry powdery mildew apple black rot blueberry healthy cherry powdery mildew corn healthy apple black rot apple healthy cherry healthy cherry powdery mildew apple scab grape black rot corn cercospora leaf gray leaf spot cedar apple rust apple scab corn healthy apple scab cedar apple rust apple black rot grape black rot cherry powdery mildew corn northern leaf blight apple scab apple healthy cherry powdery mildew cherry powdery mildew corn healthy apple black rot corn common rust cherry healthy corn northern leaf blight apple healthy corn northern leaf blight corn cercospora leaf gray leaf spot corn common rust grape black rot corn healthy grape black rot apple scab apple scab corn northern leaf blight apple healthy grape black rot apple scab apple black rot cedar apple rust cherry powdery mildew apple black rot grape black rot cherry healthy apple scab apple healthy cedar apple rust corn common rust apple scab cedar apple rust apple healthy grape black rot corn healthy cherry powdery mildew cherry powdery mildew corn common rust corn common rust corn healthy corn cercospora leaf gray leaf spot apple scab blueberry healthy apple scab corn northern leaf blight cherry powdery mildew apple black rot grape black rot corn common rust cedar apple rust apple black rot apple healthy apple black rot cherry powdery mildew cherry powdery mildew apple black rot corn cercospora leaf gray leaf spot apple black rot apple black rot cherry healthy cedar apple rust grape black rot grape black rot apple scab grape black rot apple scab cedar apple rust corn common rust corn northern leaf blight cherry healthy corn northern leaf blight apple scab corn common rust apple scab corn common rust grape black rot corn northern leaf blight apple healthy grape black rot grape black rot corn healthy corn northern leaf blight corn northern leaf blight cedar apple rust corn healthy blueberry healthy corn northern leaf blight apple black rot corn healthy apple scab corn common rust corn common rust apple scab apple black rot apple healthy corn cercospora leaf gray leaf spot cedar apple rust corn northern leaf blight corn northern leaf blight corn cercospora leaf gray leaf spot cherry powdery mildew apple scab cedar apple rust corn healthy cherry powdery mildew apple healthy cherry healthy corn cercospora leaf gray leaf spot grape black rot apple scab blueberry healthy cedar apple rust apple healthy apple scab apple scab apple black rot apple scab cherry healthy grape black rot apple scab apple scab grape black rot blueberry healthy corn northern leaf blight cherry powdery mildew corn northern leaf blight corn northern leaf blight grape black rot apple healthy apple scab cedar apple rust corn common rust cherry powdery mildew corn northern leaf blight corn healthy apple scab corn northern leaf blight cedar apple rust corn common rust cherry powdery mildew cherry healthy corn northern leaf blight apple black rot apple healthy corn healthy apple black rot cherry powdery mildew cherry powdery mildew apple scab apple black rot apple healthy cedar apple rust cherry powdery mildew cherry powdery mildew apple scab cedar apple rust apple healthy cherry powdery mildew corn common rust cherry healthy grape black rot cherry powdery mildew cherry healthy grape black rot cherry powdery mildew corn northern leaf blight grape black rot cedar apple rust corn healthy cherry healthy cherry powdery mildew corn northern leaf blight grape black rot corn northern leaf blight apple scab corn northern leaf blight apple healthy apple black rot cherry healthy apple scab apple scab corn northern leaf blight apple scab grape black rot blueberry healthy corn northern leaf blight cedar apple rust cherry powdery mildew cherry powdery mildew grape black rot apple scab corn common rust apple black rot apple black rot corn common rust apple black rot apple black rot corn common rust grape black rot cherry powdery mildew apple black rot cherry powdery mildew apple black rot cherry powdery mildew apple scab corn northern leaf blight apple scab cherry powdery mildew cherry powdery mildew cherry powdery mildew corn healthy cherry healthy corn healthy grape black rot corn common rust grape black rot cherry healthy apple black rot corn common rust apple scab cherry powdery mildew cherry powdery mildew apple black rot corn northern leaf blight cedar apple rust cherry powdery mildew cherry powdery mildew cherry powdery mildew cedar apple rust corn cercospora leaf gray leaf spot cedar apple rust cherry powdery mildew cherry powdery mildew cherry powdery mildew apple scab cedar apple rust apple scab cherry powdery mildew apple black rot cedar apple rust apple scab corn northern leaf blight apple black rot apple healthy corn northern leaf blight apple scab cherry healthy grape black rot corn healthy corn healthy apple black rot grape black rot grape black rot apple scab grape black rot apple black rot cedar apple rust cherry powdery mildew apple healthy corn northern leaf blight apple healthy apple black rot apple scab cherry powdery mildew cherry healthy corn common rust blueberry healthy cherry powdery mildew corn northern leaf blight cherry powdery mildew apple healthy apple healthy apple healthy cedar apple rust corn common rust corn northern leaf blight corn cercospora leaf gray leaf spot apple scab corn cercospora leaf gray leaf spot cherry powdery mildew corn northern leaf blight apple scab corn common rust cherry healthy blueberry healthy corn common rust apple healthy corn northern leaf blight cedar apple rust apple healthy cherry healthy cherry healthy grape black rot cedar apple rust cherry healthy corn healthy corn cercospora leaf gray leaf spot apple scab corn cercospora leaf gray leaf spot apple scab grape black rot apple scab cherry powdery mildew grape black rot corn common rust corn common rust grape black rot grape black rot grape black rot grape black rot apple scab corn healthy cherry powdery mildew cherry powdery mildew corn common rust cherry healthy apple scab apple scab grape black rot apple scab grape black rot cedar apple rust corn common rust cherry powdery mildew blueberry healthy cherry powdery mildew cherry healthy corn healthy grape black rot corn cercospora leaf gray leaf spot cherry powdery mildew corn cercospora leaf gray leaf spot corn northern leaf blight apple scab cherry powdery mildew cedar apple rust cherry powdery mildew cherry powdery mildew cedar apple rust grape black rot cherry healthy corn healthy apple scab corn northern leaf blight grape black rot blueberry healthy corn healthy apple black rot grape black rot cherry powdery mildew apple scab apple scab cherry healthy apple scab corn common rust apple black rot grape black rot corn northern leaf blight cedar apple rust blueberry healthy corn common rust cedar apple rust apple scab apple black rot apple scab apple scab cherry powdery mildew cedar apple rust apple healthy apple black rot apple black rot apple scab corn common rust apple scab apple healthy cedar apple rust cedar apple rust apple scab corn common rust apple black rot cedar apple rust apple black rot cherry powdery mildew apple black rot apple black rot apple black rot cherry powdery mildew apple scab grape black rot corn northern leaf blight apple healthy apple healthy corn northern leaf blight corn common rust apple healthy apple black rot grape black rot apple black rot cherry powdery mildew corn northern leaf blight cedar apple rust cherry healthy apple healthy grape black rot corn common rust corn common rust apple black rot corn northern leaf blight corn northern leaf blight corn cercospora leaf gray leaf spot apple black rot corn healthy corn cercospora leaf gray leaf spot cherry powdery mildew blueberry healthy cedar apple rust corn northern leaf blight cherry healthy apple healthy apple scab corn common rust grape black rot apple black rot corn northern leaf blight corn common rust apple scab corn northern leaf blight grape black rot corn healthy corn northern leaf blight cherry powdery mildew corn common rust cherry powdery mildew apple scab cherry healthy grape black rot corn northern leaf blight cherry powdery mildew grape black rot corn common rust grape black rot apple scab corn cercospora leaf gray leaf spot corn northern leaf blight apple scab cedar apple rust grape black rot cherry powdery mildew cherry powdery mildew corn healthy apple healthy apple scab cherry powdery mildew corn northern leaf blight cherry powdery mildew blueberry healthy cherry powdery mildew apple black rot apple scab corn northern leaf blight cedar apple rust cherry powdery mildew cherry powdery mildew corn healthy apple scab grape black rot corn northern leaf blight cherry powdery mildew cherry healthy apple black rot cherry powdery mildew apple black rot grape black rot grape black rot cherry powdery mildew corn northern leaf blight cherry powdery mildew apple black rot cherry powdery mildew apple black rot apple black rot corn common rust blueberry healthy corn northern leaf blight corn northern leaf blight grape black rot corn common rust apple healthy cherry healthy grape black rot corn common rust apple black rot apple black rot cedar apple rust apple black rot corn common rust cherry powdery mildew apple healthy apple healthy apple black rot corn northern leaf blight apple black rot apple scab corn healthy cherry powdery mildew cherry powdery mildew corn northern leaf blight grape black rot corn northern leaf blight corn northern leaf blight cherry powdery mildew cherry powdery mildew apple black rot apple black rot grape black rot cherry powdery mildew cherry powdery mildew corn common rust apple scab corn cercospora leaf gray leaf spot corn common rust apple scab apple healthy apple scab cedar apple rust cherry healthy grape black rot apple scab apple scab corn common rust apple healthy grape black rot cherry powdery mildew corn common rust corn common rust grape black rot apple healthy apple healthy cedar apple rust cherry powdery mildew apple scab apple scab grape black rot cedar apple rust grape black rot cherry powdery mildew cedar apple rust cherry powdery mildew apple black rot apple black rot blueberry healthy cedar apple rust corn northern leaf blight cherry powdery mildew grape black rot grape black rot apple black rot corn northern leaf blight cedar apple rust cedar apple rust cherry powdery mildew corn cercospora leaf gray leaf spot corn healthy corn northern leaf blight cedar apple rust corn northern leaf blight cherry powdery mildew apple scab apple scab corn healthy corn northern leaf blight cherry powdery mildew corn common rust corn northern leaf blight apple scab corn common rust grape black rot cedar apple rust cherry healthy cherry powdery mildew corn common rust cherry powdery mildew apple healthy corn healthy blueberry healthy corn healthy corn northern leaf blight grape black rot apple healthy cherry powdery mildew cherry powdery mildew cedar apple rust corn common rust apple scab cedar apple rust apple black rot blueberry healthy corn northern leaf blight corn common rust corn northern leaf blight corn northern leaf blight cedar apple rust grape black rot corn healthy corn common rust corn northern leaf blight cherry healthy grape black rot cherry powdery mildew apple healthy corn northern leaf blight cherry healthy apple healthy cherry powdery mildew apple black rot corn healthy cherry powdery mildew blueberry healthy cherry healthy corn cercospora leaf gray leaf spot cherry healthy corn healthy cherry healthy grape black rot apple scab grape black rot apple black rot apple black rot grape black rot blueberry healthy apple scab cherry powdery mildew corn common rust cedar apple rust corn cercospora leaf gray leaf spot cherry powdery mildew grape black rot cedar apple rust apple healthy corn northern leaf blight corn northern leaf blight cherry powdery mildew apple scab apple scab apple scab cherry powdery mildew cherry powdery mildew grape black rot apple healthy corn northern leaf blight corn northern leaf blight grape black rot cherry powdery mildew apple healthy apple black rot corn common rust cherry powdery mildew apple scab cedar apple rust cherry powdery mildew corn common rust corn common rust corn common rust apple black rot apple scab cherry powdery mildew cherry healthy cedar apple rust corn northern leaf blight corn northern leaf blight corn northern leaf blight corn healthy apple black rot apple black rot apple healthy apple black rot cherry healthy corn common rust cherry powdery mildew grape black rot cherry healthy apple scab cedar apple rust apple scab cedar apple rust corn healthy cedar apple rust cherry powdery mildew cherry powdery mildew apple scab apple black rot grape black rot corn common rust corn healthy apple black rot corn cercospora leaf gray leaf spot cedar apple rust cherry powdery mildew cherry healthy corn northern leaf blight apple scab apple black rot corn healthy apple scab apple black rot grape black rot apple scab apple black rot apple scab cherry healthy apple healthy cherry healthy apple black rot grape black rot grape black rot cherry powdery mildew cherry healthy cherry powdery mildew corn northern leaf blight cherry powdery mildew apple black rot cherry powdery mildew corn common rust cherry powdery mildew apple healthy apple black rot cherry healthy corn healthy cherry powdery mildew grape black rot apple healthy "
          ]
        }
      ]
    },
    {
      "cell_type": "code",
      "source": [],
      "metadata": {
        "id": "bgdqmjFCebLO"
      },
      "execution_count": null,
      "outputs": []
    },
    {
      "cell_type": "code",
      "source": [],
      "metadata": {
        "id": "sclW6Vo9ebOQ"
      },
      "execution_count": null,
      "outputs": []
    },
    {
      "cell_type": "code",
      "source": [],
      "metadata": {
        "id": "wp-UsBRMebQ3"
      },
      "execution_count": null,
      "outputs": []
    },
    {
      "cell_type": "code",
      "source": [],
      "metadata": {
        "id": "4qsFQ7OSebTc"
      },
      "execution_count": null,
      "outputs": []
    },
    {
      "cell_type": "code",
      "source": [],
      "metadata": {
        "id": "yFz4HQ3TebWD"
      },
      "execution_count": null,
      "outputs": []
    },
    {
      "cell_type": "code",
      "source": [],
      "metadata": {
        "id": "cRozxtDdebYr"
      },
      "execution_count": null,
      "outputs": []
    },
    {
      "cell_type": "code",
      "source": [],
      "metadata": {
        "id": "5wSUlNokebbR"
      },
      "execution_count": null,
      "outputs": []
    },
    {
      "cell_type": "code",
      "source": [],
      "metadata": {
        "id": "7Z4cPDKeebdy"
      },
      "execution_count": null,
      "outputs": []
    },
    {
      "cell_type": "code",
      "source": [],
      "metadata": {
        "id": "Kq8IZJW4ebgO"
      },
      "execution_count": null,
      "outputs": []
    }
  ]
}