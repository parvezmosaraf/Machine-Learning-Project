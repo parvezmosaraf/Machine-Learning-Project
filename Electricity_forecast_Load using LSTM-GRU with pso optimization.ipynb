{
  "cells": [
    {
      "cell_type": "markdown",
      "metadata": {
        "id": "view-in-github",
        "colab_type": "text"
      },
      "source": [
        "<a href=\"https://colab.research.google.com/github/parvezmosaraf/Machine-Learning-Project/blob/main/Electricity_forecast_Load%20using%20LSTM-GRU%20with%20pso%20optimization.ipynb\" target=\"_parent\"><img src=\"https://colab.research.google.com/assets/colab-badge.svg\" alt=\"Open In Colab\"/></a>"
      ]
    },
    {
      "cell_type": "code",
      "execution_count": 1,
      "metadata": {
        "id": "T78iYt9nyNcH"
      },
      "outputs": [],
      "source": [
        "import numpy as np # linear algebra\n",
        "import pandas as pd # data processing, CSV file I/O (e.g. pd.read_csv)\n",
        "import os\n",
        "import nltk\n",
        "import gc\n",
        "from keras.preprocessing import sequence,text\n",
        "from keras.preprocessing.text import Tokenizer\n",
        "from keras.models import Sequential\n",
        "from keras.layers import Dense,Dropout,Embedding,LSTM,Conv1D,GlobalMaxPooling1D,Flatten,MaxPooling1D,GRU,SpatialDropout1D,Bidirectional\n",
        "from keras.callbacks import EarlyStopping\n",
        "from keras.utils import to_categorical\n",
        "from keras.losses import categorical_crossentropy\n",
        "from keras.optimizers import Adam\n",
        "from sklearn.model_selection import train_test_split\n",
        "from sklearn.metrics import accuracy_score,confusion_matrix,classification_report,f1_score\n",
        "import matplotlib.pyplot as plt\n",
        "import warnings\n",
        "#warnings.filterwarnings(\"ignore\")\n",
        "import matplotlib.pyplot as plt\n",
        "%matplotlib inline\n",
        "import seaborn as sns\n",
        "import warnings\n",
        "warnings.filterwarnings(action='ignore')\n",
        "import datetime\n",
        "from sklearn.metrics import mean_absolute_error\n",
        "from sklearn.preprocessing import MinMaxScaler\n",
        "import tensorflow as tf"
      ]
    },
    {
      "cell_type": "code",
      "execution_count": 2,
      "metadata": {
        "colab": {
          "base_uri": "https://localhost:8080/"
        },
        "id": "6NnKpYENyVwS",
        "outputId": "a8ac6694-3c69-4c25-d00a-93e5c6aa41be"
      },
      "outputs": [
        {
          "output_type": "stream",
          "name": "stdout",
          "text": [
            "Looking in indexes: https://pypi.org/simple, https://us-python.pkg.dev/colab-wheels/public/simple/\n",
            "Collecting pyswarms\n",
            "  Downloading pyswarms-1.3.0-py2.py3-none-any.whl (104 kB)\n",
            "\u001b[K     |████████████████████████████████| 104 kB 5.2 MB/s \n",
            "\u001b[?25hRequirement already satisfied: tqdm in /usr/local/lib/python3.7/dist-packages (from pyswarms) (4.64.1)\n",
            "Requirement already satisfied: scipy in /usr/local/lib/python3.7/dist-packages (from pyswarms) (1.7.3)\n",
            "Requirement already satisfied: matplotlib>=1.3.1 in /usr/local/lib/python3.7/dist-packages (from pyswarms) (3.2.2)\n",
            "Requirement already satisfied: pyyaml in /usr/local/lib/python3.7/dist-packages (from pyswarms) (6.0)\n",
            "Requirement already satisfied: future in /usr/local/lib/python3.7/dist-packages (from pyswarms) (0.16.0)\n",
            "Requirement already satisfied: attrs in /usr/local/lib/python3.7/dist-packages (from pyswarms) (22.1.0)\n",
            "Requirement already satisfied: numpy in /usr/local/lib/python3.7/dist-packages (from pyswarms) (1.21.6)\n",
            "Requirement already satisfied: python-dateutil>=2.1 in /usr/local/lib/python3.7/dist-packages (from matplotlib>=1.3.1->pyswarms) (2.8.2)\n",
            "Requirement already satisfied: kiwisolver>=1.0.1 in /usr/local/lib/python3.7/dist-packages (from matplotlib>=1.3.1->pyswarms) (1.4.4)\n",
            "Requirement already satisfied: pyparsing!=2.0.4,!=2.1.2,!=2.1.6,>=2.0.1 in /usr/local/lib/python3.7/dist-packages (from matplotlib>=1.3.1->pyswarms) (3.0.9)\n",
            "Requirement already satisfied: cycler>=0.10 in /usr/local/lib/python3.7/dist-packages (from matplotlib>=1.3.1->pyswarms) (0.11.0)\n",
            "Requirement already satisfied: typing-extensions in /usr/local/lib/python3.7/dist-packages (from kiwisolver>=1.0.1->matplotlib>=1.3.1->pyswarms) (4.1.1)\n",
            "Requirement already satisfied: six>=1.5 in /usr/local/lib/python3.7/dist-packages (from python-dateutil>=2.1->matplotlib>=1.3.1->pyswarms) (1.15.0)\n",
            "Installing collected packages: pyswarms\n",
            "Successfully installed pyswarms-1.3.0\n"
          ]
        }
      ],
      "source": [
        "pip install pyswarms"
      ]
    },
    {
      "cell_type": "code",
      "execution_count": 2,
      "metadata": {
        "id": "3aS7nohNyVy6"
      },
      "outputs": [],
      "source": []
    },
    {
      "cell_type": "code",
      "execution_count": 3,
      "metadata": {
        "colab": {
          "base_uri": "https://localhost:8080/",
          "height": 357
        },
        "id": "t5yHxMg1yV09",
        "outputId": "978de69a-661b-41fe-8e9d-19c0433299d5"
      },
      "outputs": [
        {
          "output_type": "execute_result",
          "data": {
            "text/plain": [
              "   Unnamed: 0             ts zone  demand  drybulb  dewpnt      date  year  \\\n",
              "0           1            NaN   CT  3386.0     25.0    19.0  3/1/2003  2003   \n",
              "1           2  3/1/2003 1:00   CT  3258.0     23.0    18.0  3/1/2003  2003   \n",
              "2           3  3/1/2003 2:00   CT  3189.0     22.0    18.0  3/1/2003  2003   \n",
              "3           4  3/1/2003 3:00   CT  3157.0     22.0    19.0  3/1/2003  2003   \n",
              "4           5  3/1/2003 4:00   CT  3166.0     23.0    19.0  3/1/2003  2003   \n",
              "\n",
              "  month  hour day_of_week  day_of_year  weekend holiday_name  holiday  trend  \n",
              "0   Mar     1         Sat           60     True          NaN    False    0.0  \n",
              "1   Mar     2         Sat           60     True          NaN    False    1.0  \n",
              "2   Mar     3         Sat           60     True          NaN    False    2.0  \n",
              "3   Mar     4         Sat           60     True          NaN    False    3.0  \n",
              "4   Mar     5         Sat           60     True          NaN    False    4.0  "
            ],
            "text/html": [
              "\n",
              "  <div id=\"df-42157706-8ba6-4576-8e4c-24695ade73eb\">\n",
              "    <div class=\"colab-df-container\">\n",
              "      <div>\n",
              "<style scoped>\n",
              "    .dataframe tbody tr th:only-of-type {\n",
              "        vertical-align: middle;\n",
              "    }\n",
              "\n",
              "    .dataframe tbody tr th {\n",
              "        vertical-align: top;\n",
              "    }\n",
              "\n",
              "    .dataframe thead th {\n",
              "        text-align: right;\n",
              "    }\n",
              "</style>\n",
              "<table border=\"1\" class=\"dataframe\">\n",
              "  <thead>\n",
              "    <tr style=\"text-align: right;\">\n",
              "      <th></th>\n",
              "      <th>Unnamed: 0</th>\n",
              "      <th>ts</th>\n",
              "      <th>zone</th>\n",
              "      <th>demand</th>\n",
              "      <th>drybulb</th>\n",
              "      <th>dewpnt</th>\n",
              "      <th>date</th>\n",
              "      <th>year</th>\n",
              "      <th>month</th>\n",
              "      <th>hour</th>\n",
              "      <th>day_of_week</th>\n",
              "      <th>day_of_year</th>\n",
              "      <th>weekend</th>\n",
              "      <th>holiday_name</th>\n",
              "      <th>holiday</th>\n",
              "      <th>trend</th>\n",
              "    </tr>\n",
              "  </thead>\n",
              "  <tbody>\n",
              "    <tr>\n",
              "      <th>0</th>\n",
              "      <td>1</td>\n",
              "      <td>NaN</td>\n",
              "      <td>CT</td>\n",
              "      <td>3386.0</td>\n",
              "      <td>25.0</td>\n",
              "      <td>19.0</td>\n",
              "      <td>3/1/2003</td>\n",
              "      <td>2003</td>\n",
              "      <td>Mar</td>\n",
              "      <td>1</td>\n",
              "      <td>Sat</td>\n",
              "      <td>60</td>\n",
              "      <td>True</td>\n",
              "      <td>NaN</td>\n",
              "      <td>False</td>\n",
              "      <td>0.0</td>\n",
              "    </tr>\n",
              "    <tr>\n",
              "      <th>1</th>\n",
              "      <td>2</td>\n",
              "      <td>3/1/2003 1:00</td>\n",
              "      <td>CT</td>\n",
              "      <td>3258.0</td>\n",
              "      <td>23.0</td>\n",
              "      <td>18.0</td>\n",
              "      <td>3/1/2003</td>\n",
              "      <td>2003</td>\n",
              "      <td>Mar</td>\n",
              "      <td>2</td>\n",
              "      <td>Sat</td>\n",
              "      <td>60</td>\n",
              "      <td>True</td>\n",
              "      <td>NaN</td>\n",
              "      <td>False</td>\n",
              "      <td>1.0</td>\n",
              "    </tr>\n",
              "    <tr>\n",
              "      <th>2</th>\n",
              "      <td>3</td>\n",
              "      <td>3/1/2003 2:00</td>\n",
              "      <td>CT</td>\n",
              "      <td>3189.0</td>\n",
              "      <td>22.0</td>\n",
              "      <td>18.0</td>\n",
              "      <td>3/1/2003</td>\n",
              "      <td>2003</td>\n",
              "      <td>Mar</td>\n",
              "      <td>3</td>\n",
              "      <td>Sat</td>\n",
              "      <td>60</td>\n",
              "      <td>True</td>\n",
              "      <td>NaN</td>\n",
              "      <td>False</td>\n",
              "      <td>2.0</td>\n",
              "    </tr>\n",
              "    <tr>\n",
              "      <th>3</th>\n",
              "      <td>4</td>\n",
              "      <td>3/1/2003 3:00</td>\n",
              "      <td>CT</td>\n",
              "      <td>3157.0</td>\n",
              "      <td>22.0</td>\n",
              "      <td>19.0</td>\n",
              "      <td>3/1/2003</td>\n",
              "      <td>2003</td>\n",
              "      <td>Mar</td>\n",
              "      <td>4</td>\n",
              "      <td>Sat</td>\n",
              "      <td>60</td>\n",
              "      <td>True</td>\n",
              "      <td>NaN</td>\n",
              "      <td>False</td>\n",
              "      <td>3.0</td>\n",
              "    </tr>\n",
              "    <tr>\n",
              "      <th>4</th>\n",
              "      <td>5</td>\n",
              "      <td>3/1/2003 4:00</td>\n",
              "      <td>CT</td>\n",
              "      <td>3166.0</td>\n",
              "      <td>23.0</td>\n",
              "      <td>19.0</td>\n",
              "      <td>3/1/2003</td>\n",
              "      <td>2003</td>\n",
              "      <td>Mar</td>\n",
              "      <td>5</td>\n",
              "      <td>Sat</td>\n",
              "      <td>60</td>\n",
              "      <td>True</td>\n",
              "      <td>NaN</td>\n",
              "      <td>False</td>\n",
              "      <td>4.0</td>\n",
              "    </tr>\n",
              "  </tbody>\n",
              "</table>\n",
              "</div>\n",
              "      <button class=\"colab-df-convert\" onclick=\"convertToInteractive('df-42157706-8ba6-4576-8e4c-24695ade73eb')\"\n",
              "              title=\"Convert this dataframe to an interactive table.\"\n",
              "              style=\"display:none;\">\n",
              "        \n",
              "  <svg xmlns=\"http://www.w3.org/2000/svg\" height=\"24px\"viewBox=\"0 0 24 24\"\n",
              "       width=\"24px\">\n",
              "    <path d=\"M0 0h24v24H0V0z\" fill=\"none\"/>\n",
              "    <path d=\"M18.56 5.44l.94 2.06.94-2.06 2.06-.94-2.06-.94-.94-2.06-.94 2.06-2.06.94zm-11 1L8.5 8.5l.94-2.06 2.06-.94-2.06-.94L8.5 2.5l-.94 2.06-2.06.94zm10 10l.94 2.06.94-2.06 2.06-.94-2.06-.94-.94-2.06-.94 2.06-2.06.94z\"/><path d=\"M17.41 7.96l-1.37-1.37c-.4-.4-.92-.59-1.43-.59-.52 0-1.04.2-1.43.59L10.3 9.45l-7.72 7.72c-.78.78-.78 2.05 0 2.83L4 21.41c.39.39.9.59 1.41.59.51 0 1.02-.2 1.41-.59l7.78-7.78 2.81-2.81c.8-.78.8-2.07 0-2.86zM5.41 20L4 18.59l7.72-7.72 1.47 1.35L5.41 20z\"/>\n",
              "  </svg>\n",
              "      </button>\n",
              "      \n",
              "  <style>\n",
              "    .colab-df-container {\n",
              "      display:flex;\n",
              "      flex-wrap:wrap;\n",
              "      gap: 12px;\n",
              "    }\n",
              "\n",
              "    .colab-df-convert {\n",
              "      background-color: #E8F0FE;\n",
              "      border: none;\n",
              "      border-radius: 50%;\n",
              "      cursor: pointer;\n",
              "      display: none;\n",
              "      fill: #1967D2;\n",
              "      height: 32px;\n",
              "      padding: 0 0 0 0;\n",
              "      width: 32px;\n",
              "    }\n",
              "\n",
              "    .colab-df-convert:hover {\n",
              "      background-color: #E2EBFA;\n",
              "      box-shadow: 0px 1px 2px rgba(60, 64, 67, 0.3), 0px 1px 3px 1px rgba(60, 64, 67, 0.15);\n",
              "      fill: #174EA6;\n",
              "    }\n",
              "\n",
              "    [theme=dark] .colab-df-convert {\n",
              "      background-color: #3B4455;\n",
              "      fill: #D2E3FC;\n",
              "    }\n",
              "\n",
              "    [theme=dark] .colab-df-convert:hover {\n",
              "      background-color: #434B5C;\n",
              "      box-shadow: 0px 1px 3px 1px rgba(0, 0, 0, 0.15);\n",
              "      filter: drop-shadow(0px 1px 2px rgba(0, 0, 0, 0.3));\n",
              "      fill: #FFFFFF;\n",
              "    }\n",
              "  </style>\n",
              "\n",
              "      <script>\n",
              "        const buttonEl =\n",
              "          document.querySelector('#df-42157706-8ba6-4576-8e4c-24695ade73eb button.colab-df-convert');\n",
              "        buttonEl.style.display =\n",
              "          google.colab.kernel.accessAllowed ? 'block' : 'none';\n",
              "\n",
              "        async function convertToInteractive(key) {\n",
              "          const element = document.querySelector('#df-42157706-8ba6-4576-8e4c-24695ade73eb');\n",
              "          const dataTable =\n",
              "            await google.colab.kernel.invokeFunction('convertToInteractive',\n",
              "                                                     [key], {});\n",
              "          if (!dataTable) return;\n",
              "\n",
              "          const docLinkHtml = 'Like what you see? Visit the ' +\n",
              "            '<a target=\"_blank\" href=https://colab.research.google.com/notebooks/data_table.ipynb>data table notebook</a>'\n",
              "            + ' to learn more about interactive tables.';\n",
              "          element.innerHTML = '';\n",
              "          dataTable['output_type'] = 'display_data';\n",
              "          await google.colab.output.renderOutput(dataTable, element);\n",
              "          const docLink = document.createElement('div');\n",
              "          docLink.innerHTML = docLinkHtml;\n",
              "          element.appendChild(docLink);\n",
              "        }\n",
              "      </script>\n",
              "    </div>\n",
              "  </div>\n",
              "  "
            ]
          },
          "metadata": {},
          "execution_count": 3
        }
      ],
      "source": [
        "df=pd.read_csv('/content/drive/MyDrive/GefCom2017/Gefcom 2017.csv')\n",
        "df.head()\n"
      ]
    },
    {
      "cell_type": "code",
      "execution_count": 4,
      "metadata": {
        "id": "sYFonhF61Wfx"
      },
      "outputs": [],
      "source": [
        "df = df.drop('zone', axis=1)"
      ]
    },
    {
      "cell_type": "code",
      "execution_count": 5,
      "metadata": {
        "id": "BW5FdaxF2hsJ"
      },
      "outputs": [],
      "source": [
        "df = df.drop(['month'], axis = 1)"
      ]
    },
    {
      "cell_type": "code",
      "execution_count": 6,
      "metadata": {
        "id": "jYbxf9V_2v3g"
      },
      "outputs": [],
      "source": [
        "df = df.drop(['day_of_week'], axis = 1)"
      ]
    },
    {
      "cell_type": "code",
      "execution_count": 7,
      "metadata": {
        "id": "LCqjiotO212f"
      },
      "outputs": [],
      "source": [
        "df = df.drop(['weekend'], axis = 1)"
      ]
    },
    {
      "cell_type": "code",
      "execution_count": 8,
      "metadata": {
        "id": "6ogkHHpz261n"
      },
      "outputs": [],
      "source": [
        "df = df.drop(['holiday_name'], axis = 1)"
      ]
    },
    {
      "cell_type": "code",
      "execution_count": 9,
      "metadata": {
        "id": "riZ8SQxt3BmA"
      },
      "outputs": [],
      "source": [
        "df = df.drop(['holiday'], axis = 1)"
      ]
    },
    {
      "cell_type": "code",
      "execution_count": 10,
      "metadata": {
        "colab": {
          "base_uri": "https://localhost:8080/"
        },
        "id": "K485J_B6yV3D",
        "outputId": "7be24f87-6639-49b6-dd9d-b31b13f6273b"
      },
      "outputs": [
        {
          "output_type": "stream",
          "name": "stdout",
          "text": [
            "<class 'pandas.core.frame.DataFrame'>\n",
            "RangeIndex: 1048575 entries, 0 to 1048574\n",
            "Data columns (total 10 columns):\n",
            " #   Column       Non-Null Count    Dtype  \n",
            "---  ------       --------------    -----  \n",
            " 0   Unnamed: 0   1048575 non-null  int64  \n",
            " 1   ts           1048574 non-null  object \n",
            " 2   demand       1048575 non-null  float64\n",
            " 3   drybulb      1048575 non-null  float64\n",
            " 4   dewpnt       1048575 non-null  float64\n",
            " 5   date         1048575 non-null  object \n",
            " 6   year         1048575 non-null  int64  \n",
            " 7   hour         1048575 non-null  int64  \n",
            " 8   day_of_year  1048575 non-null  int64  \n",
            " 9   trend        1048575 non-null  float64\n",
            "dtypes: float64(4), int64(4), object(2)\n",
            "memory usage: 80.0+ MB\n"
          ]
        }
      ],
      "source": [
        "df.info()"
      ]
    },
    {
      "cell_type": "code",
      "execution_count": 11,
      "metadata": {
        "id": "X_TYvgXIyV5W"
      },
      "outputs": [],
      "source": [
        "df['date']=pd.to_datetime(df['date'])"
      ]
    },
    {
      "cell_type": "code",
      "execution_count": 12,
      "metadata": {
        "colab": {
          "base_uri": "https://localhost:8080/",
          "height": 758
        },
        "id": "hZVg3uViyV7z",
        "outputId": "9bd26908-24e1-4fda-a691-51555f5e937d"
      },
      "outputs": [
        {
          "output_type": "execute_result",
          "data": {
            "text/plain": [
              "<matplotlib.axes._subplots.AxesSubplot at 0x7f2077849210>"
            ]
          },
          "metadata": {},
          "execution_count": 12
        },
        {
          "output_type": "display_data",
          "data": {
            "text/plain": [
              "<Figure size 1080x576 with 1 Axes>"
            ],
            "image/png": "[encoded data removed]"
          },
          "metadata": {
            "needs_background": "light"
          }
        },
        {
          "output_type": "display_data",
          "data": {
            "text/plain": [
              "<Figure size 1080x576 with 1 Axes>"
            ],
            "image/png": "[encoded data removed]"
          },
          "metadata": {
            "needs_background": "light"
          }
        }
      ],
      "source": [
        "df.plot(x='date',y='drybulb',figsize=(15,8))\n",
        "\n",
        "df.plot(x='date',y='dewpnt',figsize=(15,8))"
      ]
    },
    {
      "cell_type": "code",
      "execution_count": 13,
      "metadata": {
        "colab": {
          "base_uri": "https://localhost:8080/",
          "height": 333
        },
        "id": "WR8mGds3yV-S",
        "outputId": "5316c6c3-ad1c-46d7-9826-72c544a56027"
      },
      "outputs": [
        {
          "output_type": "execute_result",
          "data": {
            "text/plain": [
              "<matplotlib.axes._subplots.AxesSubplot at 0x7f2084db1d90>"
            ]
          },
          "metadata": {},
          "execution_count": 13
        },
        {
          "output_type": "display_data",
          "data": {
            "text/plain": [
              "<Figure size 432x288 with 1 Axes>"
            ],
            "image/png": "[encoded data removed]"
          },
          "metadata": {
            "needs_background": "light"
          }
        }
      ],
      "source": [
        "sns.heatmap(df.corr(),annot=True, cbar=False, cmap='Blues', fmt='.1f')"
      ]
    },
    {
      "cell_type": "code",
      "execution_count": 14,
      "metadata": {
        "colab": {
          "base_uri": "https://localhost:8080/",
          "height": 296
        },
        "id": "vUEQdVLSyWBO",
        "outputId": "42796e3d-6f4d-454d-9877-4d420972843a"
      },
      "outputs": [
        {
          "output_type": "execute_result",
          "data": {
            "text/plain": [
              "<matplotlib.axes._subplots.AxesSubplot at 0x7f206c5a66d0>"
            ]
          },
          "metadata": {},
          "execution_count": 14
        },
        {
          "output_type": "display_data",
          "data": {
            "text/plain": [
              "<Figure size 432x288 with 1 Axes>"
            ],
            "image/png": "[encoded data removed]"
          },
          "metadata": {
            "needs_background": "light"
          }
        }
      ],
      "source": [
        "sns.boxplot(df['drybulb'])"
      ]
    },
    {
      "cell_type": "code",
      "execution_count": 15,
      "metadata": {
        "colab": {
          "base_uri": "https://localhost:8080/",
          "height": 296
        },
        "id": "y1c5pxKCyWDU",
        "outputId": "e11f9597-7a60-4047-b5fa-05c4d266aaf3"
      },
      "outputs": [
        {
          "output_type": "execute_result",
          "data": {
            "text/plain": [
              "<matplotlib.axes._subplots.AxesSubplot at 0x7f206c59a2d0>"
            ]
          },
          "metadata": {},
          "execution_count": 15
        },
        {
          "output_type": "display_data",
          "data": {
            "text/plain": [
              "<Figure size 432x288 with 1 Axes>"
            ],
            "image/png": "[encoded data removed]"
          },
          "metadata": {
            "needs_background": "light"
          }
        }
      ],
      "source": [
        "sns.boxplot(df['dewpnt'])"
      ]
    },
    {
      "cell_type": "code",
      "execution_count": 16,
      "metadata": {
        "colab": {
          "base_uri": "https://localhost:8080/",
          "height": 296
        },
        "id": "nxG_L3QdyWFa",
        "outputId": "163259e6-8ab7-467c-ae3a-b4b260f3995e"
      },
      "outputs": [
        {
          "output_type": "execute_result",
          "data": {
            "text/plain": [
              "<matplotlib.axes._subplots.AxesSubplot at 0x7f206c4f9510>"
            ]
          },
          "metadata": {},
          "execution_count": 16
        },
        {
          "output_type": "display_data",
          "data": {
            "text/plain": [
              "<Figure size 432x288 with 1 Axes>"
            ],
            "image/png": "[encoded data removed]"
          },
          "metadata": {
            "needs_background": "light"
          }
        }
      ],
      "source": [
        "sns.boxplot(df['demand'])"
      ]
    },
    {
      "cell_type": "code",
      "execution_count": 17,
      "metadata": {
        "id": "xKoiSma-yWH-"
      },
      "outputs": [],
      "source": [
        "df = df.set_index('ts')"
      ]
    },
    {
      "cell_type": "code",
      "execution_count": 18,
      "metadata": {
        "colab": {
          "base_uri": "https://localhost:8080/",
          "height": 712
        },
        "id": "McbQHIzqyWKH",
        "outputId": "a5e01cf2-a680-4e75-a39a-fd585c6adeee"
      },
      "outputs": [
        {
          "output_type": "display_data",
          "data": {
            "text/plain": [
              "<Figure size 1080x1080 with 8 Axes>"
            ],
            "image/png": "[encoded data removed]"
          },
          "metadata": {
            "needs_background": "light"
          }
        }
      ],
      "source": [
        "from matplotlib import pyplot\n",
        "# load dataset\n",
        "values = df.values\n",
        "# specify columns to plot\n",
        "groups = [0, 1, 2, 3,4, 5, 6, 7]\n",
        "i = 1\n",
        "# plot each column\n",
        "pyplot.figure(figsize=(15,15))\n",
        "for group in groups:\n",
        "    pyplot.subplot(len(groups), 1, i)\n",
        "    pyplot.plot(values[:, group])\n",
        "    pyplot.title(df.columns[group], y=0.5, loc='right')\n",
        "    i += 1\n",
        "pyplot.show()"
      ]
    },
    {
      "cell_type": "code",
      "execution_count": 19,
      "metadata": {
        "colab": {
          "base_uri": "https://localhost:8080/"
        },
        "id": "TLggtq6wyWMq",
        "outputId": "4191b33c-c74c-44cb-a1bf-d564d2c63e6c"
      },
      "outputs": [
        {
          "output_type": "stream",
          "name": "stdout",
          "text": [
            "<class 'pandas.core.frame.DataFrame'>\n",
            "Index: 1048575 entries, nan to 6/17/2009 19:00\n",
            "Data columns (total 9 columns):\n",
            " #   Column       Non-Null Count    Dtype         \n",
            "---  ------       --------------    -----         \n",
            " 0   Unnamed: 0   1048575 non-null  int64         \n",
            " 1   demand       1048575 non-null  float64       \n",
            " 2   drybulb      1048575 non-null  float64       \n",
            " 3   dewpnt       1048575 non-null  float64       \n",
            " 4   date         1048575 non-null  datetime64[ns]\n",
            " 5   year         1048575 non-null  int64         \n",
            " 6   hour         1048575 non-null  int64         \n",
            " 7   day_of_year  1048575 non-null  int64         \n",
            " 8   trend        1048575 non-null  float64       \n",
            "dtypes: datetime64[ns](1), float64(4), int64(4)\n",
            "memory usage: 80.0+ MB\n"
          ]
        }
      ],
      "source": [
        "df=df.fillna(0)\n",
        "df.info()"
      ]
    },
    {
      "cell_type": "code",
      "execution_count": 20,
      "metadata": {
        "colab": {
          "base_uri": "https://localhost:8080/"
        },
        "id": "LItPDCykyWPR",
        "outputId": "e1dd8c63-52fd-4e3a-9449-754b35c32927"
      },
      "outputs": [
        {
          "output_type": "execute_result",
          "data": {
            "text/plain": [
              "7340030.6"
            ]
          },
          "metadata": {},
          "execution_count": 20
        }
      ],
      "source": [
        "10485758*0.7"
      ]
    },
    {
      "cell_type": "code",
      "execution_count": 21,
      "metadata": {
        "id": "lHhn1sUAyWRr"
      },
      "outputs": [],
      "source": [
        "train_df,test_df = df[1:7340030], df[734002:]"
      ]
    },
    {
      "cell_type": "code",
      "execution_count": 22,
      "metadata": {
        "colab": {
          "base_uri": "https://localhost:8080/"
        },
        "id": "M8RuSJoE4aTX",
        "outputId": "5ea3e76b-a52f-405c-bdac-622305615388"
      },
      "outputs": [
        {
          "output_type": "execute_result",
          "data": {
            "text/plain": [
              "(1048574, 9)"
            ]
          },
          "metadata": {},
          "execution_count": 22
        }
      ],
      "source": [
        "train_df.shape"
      ]
    },
    {
      "cell_type": "code",
      "execution_count": 23,
      "metadata": {
        "colab": {
          "base_uri": "https://localhost:8080/"
        },
        "id": "HtHw_BBS42dX",
        "outputId": "08126256-9937-4cfc-f2a0-0d39ec5ec5b6"
      },
      "outputs": [
        {
          "output_type": "execute_result",
          "data": {
            "text/plain": [
              "(314573, 9)"
            ]
          },
          "metadata": {},
          "execution_count": 23
        }
      ],
      "source": [
        "test_df.shape"
      ]
    },
    {
      "cell_type": "markdown",
      "source": [
        "**Optimization using pso**"
      ],
      "metadata": {
        "id": "sQmOmJv6y_ht"
      }
    },
    {
      "cell_type": "code",
      "source": [
        "print(f'Number of rows: {train_df.shape[0]};  Number of columns: {train_df.shape[1]}; No of missing values: {sum(train_df.isna().sum())}')"
      ],
      "metadata": {
        "colab": {
          "base_uri": "https://localhost:8080/"
        },
        "id": "wT0fFO-NzFEy",
        "outputId": "1c5eb7ed-30e5-4a8d-d338-22eed87606c4"
      },
      "execution_count": 24,
      "outputs": [
        {
          "output_type": "stream",
          "name": "stdout",
          "text": [
            "Number of rows: 1048574;  Number of columns: 9; No of missing values: 0\n"
          ]
        }
      ]
    },
    {
      "cell_type": "code",
      "source": [
        "train_df.dtypes"
      ],
      "metadata": {
        "colab": {
          "base_uri": "https://localhost:8080/"
        },
        "id": "b9TpunTuzFBA",
        "outputId": "c6898318-c59c-4366-85ac-1a74335f15ab"
      },
      "execution_count": 25,
      "outputs": [
        {
          "output_type": "execute_result",
          "data": {
            "text/plain": [
              "Unnamed: 0              int64\n",
              "demand                float64\n",
              "drybulb               float64\n",
              "dewpnt                float64\n",
              "date           datetime64[ns]\n",
              "year                    int64\n",
              "hour                    int64\n",
              "day_of_year             int64\n",
              "trend                 float64\n",
              "dtype: object"
            ]
          },
          "metadata": {},
          "execution_count": 25
        }
      ]
    },
    {
      "cell_type": "code",
      "source": [
        "train_df.describe()"
      ],
      "metadata": {
        "colab": {
          "base_uri": "https://localhost:8080/",
          "height": 364
        },
        "id": "Pk8dwRjQzE9a",
        "outputId": "7b4d2137-7c0f-4fe3-9c17-985b4d36bb73"
      },
      "execution_count": 26,
      "outputs": [
        {
          "output_type": "execute_result",
          "data": {
            "text/plain": [
              "         Unnamed: 0        demand       drybulb        dewpnt          year  \\\n",
              "count  1.048574e+06  1.048574e+06  1.048574e+06  1.048574e+06  1.048574e+06   \n",
              "mean   5.242885e+05  3.957456e+03  5.019708e+01  3.867814e+01  2.009542e+03   \n",
              "std    3.026974e+05  4.423006e+03  1.870094e+01  1.969047e+01  4.109257e+00   \n",
              "min    2.000000e+00  3.650000e+02 -2.200000e+01 -2.900000e+01  2.003000e+03   \n",
              "25%    2.621452e+05  1.214000e+03  3.600000e+01  2.400000e+01  2.006000e+03   \n",
              "50%    5.242885e+05  1.963000e+03  5.100000e+01  4.000000e+01  2.009000e+03   \n",
              "75%    7.864318e+05  4.498000e+03  6.500000e+01  5.500000e+01  2.013000e+03   \n",
              "max    1.048575e+06  2.762200e+04  1.020000e+02  8.100000e+01  2.017000e+03   \n",
              "\n",
              "               hour   day_of_year         trend  \n",
              "count  1.048574e+06  1.048574e+06  1.048574e+06  \n",
              "mean   1.250243e+01  1.816918e+02  6.028363e+04  \n",
              "std    6.921117e+00  1.051945e+02  3.592336e+04  \n",
              "min    1.000000e+00  1.000000e+00  0.000000e+00  \n",
              "25%    7.000000e+00  9.000000e+01  2.913400e+04  \n",
              "50%    1.300000e+01  1.800000e+02  5.864900e+04  \n",
              "75%    1.900000e+01  2.730000e+02  9.142375e+04  \n",
              "max    2.400000e+01  3.650000e+02  1.241990e+05  "
            ],
            "text/html": [
              "\n",
              "  <div id=\"df-8e67ada5-8781-4304-b7d6-3a191e765d36\">\n",
              "    <div class=\"colab-df-container\">\n",
              "      <div>\n",
              "<style scoped>\n",
              "    .dataframe tbody tr th:only-of-type {\n",
              "        vertical-align: middle;\n",
              "    }\n",
              "\n",
              "    .dataframe tbody tr th {\n",
              "        vertical-align: top;\n",
              "    }\n",
              "\n",
              "    .dataframe thead th {\n",
              "        text-align: right;\n",
              "    }\n",
              "</style>\n",
              "<table border=\"1\" class=\"dataframe\">\n",
              "  <thead>\n",
              "    <tr style=\"text-align: right;\">\n",
              "      <th></th>\n",
              "      <th>Unnamed: 0</th>\n",
              "      <th>demand</th>\n",
              "      <th>drybulb</th>\n",
              "      <th>dewpnt</th>\n",
              "      <th>year</th>\n",
              "      <th>hour</th>\n",
              "      <th>day_of_year</th>\n",
              "      <th>trend</th>\n",
              "    </tr>\n",
              "  </thead>\n",
              "  <tbody>\n",
              "    <tr>\n",
              "      <th>count</th>\n",
              "      <td>1.048574e+06</td>\n",
              "      <td>1.048574e+06</td>\n",
              "      <td>1.048574e+06</td>\n",
              "      <td>1.048574e+06</td>\n",
              "      <td>1.048574e+06</td>\n",
              "      <td>1.048574e+06</td>\n",
              "      <td>1.048574e+06</td>\n",
              "      <td>1.048574e+06</td>\n",
              "    </tr>\n",
              "    <tr>\n",
              "      <th>mean</th>\n",
              "      <td>5.242885e+05</td>\n",
              "      <td>3.957456e+03</td>\n",
              "      <td>5.019708e+01</td>\n",
              "      <td>3.867814e+01</td>\n",
              "      <td>2.009542e+03</td>\n",
              "      <td>1.250243e+01</td>\n",
              "      <td>1.816918e+02</td>\n",
              "      <td>6.028363e+04</td>\n",
              "    </tr>\n",
              "    <tr>\n",
              "      <th>std</th>\n",
              "      <td>3.026974e+05</td>\n",
              "      <td>4.423006e+03</td>\n",
              "      <td>1.870094e+01</td>\n",
              "      <td>1.969047e+01</td>\n",
              "      <td>4.109257e+00</td>\n",
              "      <td>6.921117e+00</td>\n",
              "      <td>1.051945e+02</td>\n",
              "      <td>3.592336e+04</td>\n",
              "    </tr>\n",
              "    <tr>\n",
              "      <th>min</th>\n",
              "      <td>2.000000e+00</td>\n",
              "      <td>3.650000e+02</td>\n",
              "      <td>-2.200000e+01</td>\n",
              "      <td>-2.900000e+01</td>\n",
              "      <td>2.003000e+03</td>\n",
              "      <td>1.000000e+00</td>\n",
              "      <td>1.000000e+00</td>\n",
              "      <td>0.000000e+00</td>\n",
              "    </tr>\n",
              "    <tr>\n",
              "      <th>25%</th>\n",
              "      <td>2.621452e+05</td>\n",
              "      <td>1.214000e+03</td>\n",
              "      <td>3.600000e+01</td>\n",
              "      <td>2.400000e+01</td>\n",
              "      <td>2.006000e+03</td>\n",
              "      <td>7.000000e+00</td>\n",
              "      <td>9.000000e+01</td>\n",
              "      <td>2.913400e+04</td>\n",
              "    </tr>\n",
              "    <tr>\n",
              "      <th>50%</th>\n",
              "      <td>5.242885e+05</td>\n",
              "      <td>1.963000e+03</td>\n",
              "      <td>5.100000e+01</td>\n",
              "      <td>4.000000e+01</td>\n",
              "      <td>2.009000e+03</td>\n",
              "      <td>1.300000e+01</td>\n",
              "      <td>1.800000e+02</td>\n",
              "      <td>5.864900e+04</td>\n",
              "    </tr>\n",
              "    <tr>\n",
              "      <th>75%</th>\n",
              "      <td>7.864318e+05</td>\n",
              "      <td>4.498000e+03</td>\n",
              "      <td>6.500000e+01</td>\n",
              "      <td>5.500000e+01</td>\n",
              "      <td>2.013000e+03</td>\n",
              "      <td>1.900000e+01</td>\n",
              "      <td>2.730000e+02</td>\n",
              "      <td>9.142375e+04</td>\n",
              "    </tr>\n",
              "    <tr>\n",
              "      <th>max</th>\n",
              "      <td>1.048575e+06</td>\n",
              "      <td>2.762200e+04</td>\n",
              "      <td>1.020000e+02</td>\n",
              "      <td>8.100000e+01</td>\n",
              "      <td>2.017000e+03</td>\n",
              "      <td>2.400000e+01</td>\n",
              "      <td>3.650000e+02</td>\n",
              "      <td>1.241990e+05</td>\n",
              "    </tr>\n",
              "  </tbody>\n",
              "</table>\n",
              "</div>\n",
              "      <button class=\"colab-df-convert\" onclick=\"convertToInteractive('df-8e67ada5-8781-4304-b7d6-3a191e765d36')\"\n",
              "              title=\"Convert this dataframe to an interactive table.\"\n",
              "              style=\"display:none;\">\n",
              "        \n",
              "  <svg xmlns=\"http://www.w3.org/2000/svg\" height=\"24px\"viewBox=\"0 0 24 24\"\n",
              "       width=\"24px\">\n",
              "    <path d=\"M0 0h24v24H0V0z\" fill=\"none\"/>\n",
              "    <path d=\"M18.56 5.44l.94 2.06.94-2.06 2.06-.94-2.06-.94-.94-2.06-.94 2.06-2.06.94zm-11 1L8.5 8.5l.94-2.06 2.06-.94-2.06-.94L8.5 2.5l-.94 2.06-2.06.94zm10 10l.94 2.06.94-2.06 2.06-.94-2.06-.94-.94-2.06-.94 2.06-2.06.94z\"/><path d=\"M17.41 7.96l-1.37-1.37c-.4-.4-.92-.59-1.43-.59-.52 0-1.04.2-1.43.59L10.3 9.45l-7.72 7.72c-.78.78-.78 2.05 0 2.83L4 21.41c.39.39.9.59 1.41.59.51 0 1.02-.2 1.41-.59l7.78-7.78 2.81-2.81c.8-.78.8-2.07 0-2.86zM5.41 20L4 18.59l7.72-7.72 1.47 1.35L5.41 20z\"/>\n",
              "  </svg>\n",
              "      </button>\n",
              "      \n",
              "  <style>\n",
              "    .colab-df-container {\n",
              "      display:flex;\n",
              "      flex-wrap:wrap;\n",
              "      gap: 12px;\n",
              "    }\n",
              "\n",
              "    .colab-df-convert {\n",
              "      background-color: #E8F0FE;\n",
              "      border: none;\n",
              "      border-radius: 50%;\n",
              "      cursor: pointer;\n",
              "      display: none;\n",
              "      fill: #1967D2;\n",
              "      height: 32px;\n",
              "      padding: 0 0 0 0;\n",
              "      width: 32px;\n",
              "    }\n",
              "\n",
              "    .colab-df-convert:hover {\n",
              "      background-color: #E2EBFA;\n",
              "      box-shadow: 0px 1px 2px rgba(60, 64, 67, 0.3), 0px 1px 3px 1px rgba(60, 64, 67, 0.15);\n",
              "      fill: #174EA6;\n",
              "    }\n",
              "\n",
              "    [theme=dark] .colab-df-convert {\n",
              "      background-color: #3B4455;\n",
              "      fill: #D2E3FC;\n",
              "    }\n",
              "\n",
              "    [theme=dark] .colab-df-convert:hover {\n",
              "      background-color: #434B5C;\n",
              "      box-shadow: 0px 1px 3px 1px rgba(0, 0, 0, 0.15);\n",
              "      filter: drop-shadow(0px 1px 2px rgba(0, 0, 0, 0.3));\n",
              "      fill: #FFFFFF;\n",
              "    }\n",
              "  </style>\n",
              "\n",
              "      <script>\n",
              "        const buttonEl =\n",
              "          document.querySelector('#df-8e67ada5-8781-4304-b7d6-3a191e765d36 button.colab-df-convert');\n",
              "        buttonEl.style.display =\n",
              "          google.colab.kernel.accessAllowed ? 'block' : 'none';\n",
              "\n",
              "        async function convertToInteractive(key) {\n",
              "          const element = document.querySelector('#df-8e67ada5-8781-4304-b7d6-3a191e765d36');\n",
              "          const dataTable =\n",
              "            await google.colab.kernel.invokeFunction('convertToInteractive',\n",
              "                                                     [key], {});\n",
              "          if (!dataTable) return;\n",
              "\n",
              "          const docLinkHtml = 'Like what you see? Visit the ' +\n",
              "            '<a target=\"_blank\" href=https://colab.research.google.com/notebooks/data_table.ipynb>data table notebook</a>'\n",
              "            + ' to learn more about interactive tables.';\n",
              "          element.innerHTML = '';\n",
              "          dataTable['output_type'] = 'display_data';\n",
              "          await google.colab.output.renderOutput(dataTable, element);\n",
              "          const docLink = document.createElement('div');\n",
              "          docLink.innerHTML = docLinkHtml;\n",
              "          element.appendChild(docLink);\n",
              "        }\n",
              "      </script>\n",
              "    </div>\n",
              "  </div>\n",
              "  "
            ]
          },
          "metadata": {},
          "execution_count": 26
        }
      ]
    },
    {
      "cell_type": "code",
      "source": [
        "test_df.head()"
      ],
      "metadata": {
        "colab": {
          "base_uri": "https://localhost:8080/",
          "height": 385
        },
        "id": "QW99U-cQzE6J",
        "outputId": "6c7b1c32-b758-4c96-dcae-3c7a4476380d"
      },
      "execution_count": 27,
      "outputs": [
        {
          "output_type": "execute_result",
          "data": {
            "text/plain": [
              "                 Unnamed: 0    demand  drybulb  dewpnt       date  year  hour  \\\n",
              "ts                                                                              \n",
              "1/27/2016 13:00      734003   964.716     44.0    25.0 2016-01-27  2016    14   \n",
              "1/27/2016 14:00      734004   953.690     46.0    23.0 2016-01-27  2016    15   \n",
              "1/27/2016 15:00      734005   948.637     47.0    21.0 2016-01-27  2016    16   \n",
              "1/27/2016 16:00      734006   985.243     45.0    20.0 2016-01-27  2016    17   \n",
              "1/27/2016 17:00      734007  1071.651     43.0    20.0 2016-01-27  2016    18   \n",
              "\n",
              "                 day_of_year     trend  \n",
              "ts                                      \n",
              "1/27/2016 13:00           27  113173.0  \n",
              "1/27/2016 14:00           27  113174.0  \n",
              "1/27/2016 15:00           27  113175.0  \n",
              "1/27/2016 16:00           27  113176.0  \n",
              "1/27/2016 17:00           27  113177.0  "
            ],
            "text/html": [
              "\n",
              "  <div id=\"df-a807dc3e-ce37-4fee-9175-026d4131faef\">\n",
              "    <div class=\"colab-df-container\">\n",
              "      <div>\n",
              "<style scoped>\n",
              "    .dataframe tbody tr th:only-of-type {\n",
              "        vertical-align: middle;\n",
              "    }\n",
              "\n",
              "    .dataframe tbody tr th {\n",
              "        vertical-align: top;\n",
              "    }\n",
              "\n",
              "    .dataframe thead th {\n",
              "        text-align: right;\n",
              "    }\n",
              "</style>\n",
              "<table border=\"1\" class=\"dataframe\">\n",
              "  <thead>\n",
              "    <tr style=\"text-align: right;\">\n",
              "      <th></th>\n",
              "      <th>Unnamed: 0</th>\n",
              "      <th>demand</th>\n",
              "      <th>drybulb</th>\n",
              "      <th>dewpnt</th>\n",
              "      <th>date</th>\n",
              "      <th>year</th>\n",
              "      <th>hour</th>\n",
              "      <th>day_of_year</th>\n",
              "      <th>trend</th>\n",
              "    </tr>\n",
              "    <tr>\n",
              "      <th>ts</th>\n",
              "      <th></th>\n",
              "      <th></th>\n",
              "      <th></th>\n",
              "      <th></th>\n",
              "      <th></th>\n",
              "      <th></th>\n",
              "      <th></th>\n",
              "      <th></th>\n",
              "      <th></th>\n",
              "    </tr>\n",
              "  </thead>\n",
              "  <tbody>\n",
              "    <tr>\n",
              "      <th>1/27/2016 13:00</th>\n",
              "      <td>734003</td>\n",
              "      <td>964.716</td>\n",
              "      <td>44.0</td>\n",
              "      <td>25.0</td>\n",
              "      <td>2016-01-27</td>\n",
              "      <td>2016</td>\n",
              "      <td>14</td>\n",
              "      <td>27</td>\n",
              "      <td>113173.0</td>\n",
              "    </tr>\n",
              "    <tr>\n",
              "      <th>1/27/2016 14:00</th>\n",
              "      <td>734004</td>\n",
              "      <td>953.690</td>\n",
              "      <td>46.0</td>\n",
              "      <td>23.0</td>\n",
              "      <td>2016-01-27</td>\n",
              "      <td>2016</td>\n",
              "      <td>15</td>\n",
              "      <td>27</td>\n",
              "      <td>113174.0</td>\n",
              "    </tr>\n",
              "    <tr>\n",
              "      <th>1/27/2016 15:00</th>\n",
              "      <td>734005</td>\n",
              "      <td>948.637</td>\n",
              "      <td>47.0</td>\n",
              "      <td>21.0</td>\n",
              "      <td>2016-01-27</td>\n",
              "      <td>2016</td>\n",
              "      <td>16</td>\n",
              "      <td>27</td>\n",
              "      <td>113175.0</td>\n",
              "    </tr>\n",
              "    <tr>\n",
              "      <th>1/27/2016 16:00</th>\n",
              "      <td>734006</td>\n",
              "      <td>985.243</td>\n",
              "      <td>45.0</td>\n",
              "      <td>20.0</td>\n",
              "      <td>2016-01-27</td>\n",
              "      <td>2016</td>\n",
              "      <td>17</td>\n",
              "      <td>27</td>\n",
              "      <td>113176.0</td>\n",
              "    </tr>\n",
              "    <tr>\n",
              "      <th>1/27/2016 17:00</th>\n",
              "      <td>734007</td>\n",
              "      <td>1071.651</td>\n",
              "      <td>43.0</td>\n",
              "      <td>20.0</td>\n",
              "      <td>2016-01-27</td>\n",
              "      <td>2016</td>\n",
              "      <td>18</td>\n",
              "      <td>27</td>\n",
              "      <td>113177.0</td>\n",
              "    </tr>\n",
              "  </tbody>\n",
              "</table>\n",
              "</div>\n",
              "      <button class=\"colab-df-convert\" onclick=\"convertToInteractive('df-a807dc3e-ce37-4fee-9175-026d4131faef')\"\n",
              "              title=\"Convert this dataframe to an interactive table.\"\n",
              "              style=\"display:none;\">\n",
              "        \n",
              "  <svg xmlns=\"http://www.w3.org/2000/svg\" height=\"24px\"viewBox=\"0 0 24 24\"\n",
              "       width=\"24px\">\n",
              "    <path d=\"M0 0h24v24H0V0z\" fill=\"none\"/>\n",
              "    <path d=\"M18.56 5.44l.94 2.06.94-2.06 2.06-.94-2.06-.94-.94-2.06-.94 2.06-2.06.94zm-11 1L8.5 8.5l.94-2.06 2.06-.94-2.06-.94L8.5 2.5l-.94 2.06-2.06.94zm10 10l.94 2.06.94-2.06 2.06-.94-2.06-.94-.94-2.06-.94 2.06-2.06.94z\"/><path d=\"M17.41 7.96l-1.37-1.37c-.4-.4-.92-.59-1.43-.59-.52 0-1.04.2-1.43.59L10.3 9.45l-7.72 7.72c-.78.78-.78 2.05 0 2.83L4 21.41c.39.39.9.59 1.41.59.51 0 1.02-.2 1.41-.59l7.78-7.78 2.81-2.81c.8-.78.8-2.07 0-2.86zM5.41 20L4 18.59l7.72-7.72 1.47 1.35L5.41 20z\"/>\n",
              "  </svg>\n",
              "      </button>\n",
              "      \n",
              "  <style>\n",
              "    .colab-df-container {\n",
              "      display:flex;\n",
              "      flex-wrap:wrap;\n",
              "      gap: 12px;\n",
              "    }\n",
              "\n",
              "    .colab-df-convert {\n",
              "      background-color: #E8F0FE;\n",
              "      border: none;\n",
              "      border-radius: 50%;\n",
              "      cursor: pointer;\n",
              "      display: none;\n",
              "      fill: #1967D2;\n",
              "      height: 32px;\n",
              "      padding: 0 0 0 0;\n",
              "      width: 32px;\n",
              "    }\n",
              "\n",
              "    .colab-df-convert:hover {\n",
              "      background-color: #E2EBFA;\n",
              "      box-shadow: 0px 1px 2px rgba(60, 64, 67, 0.3), 0px 1px 3px 1px rgba(60, 64, 67, 0.15);\n",
              "      fill: #174EA6;\n",
              "    }\n",
              "\n",
              "    [theme=dark] .colab-df-convert {\n",
              "      background-color: #3B4455;\n",
              "      fill: #D2E3FC;\n",
              "    }\n",
              "\n",
              "    [theme=dark] .colab-df-convert:hover {\n",
              "      background-color: #434B5C;\n",
              "      box-shadow: 0px 1px 3px 1px rgba(0, 0, 0, 0.15);\n",
              "      filter: drop-shadow(0px 1px 2px rgba(0, 0, 0, 0.3));\n",
              "      fill: #FFFFFF;\n",
              "    }\n",
              "  </style>\n",
              "\n",
              "      <script>\n",
              "        const buttonEl =\n",
              "          document.querySelector('#df-a807dc3e-ce37-4fee-9175-026d4131faef button.colab-df-convert');\n",
              "        buttonEl.style.display =\n",
              "          google.colab.kernel.accessAllowed ? 'block' : 'none';\n",
              "\n",
              "        async function convertToInteractive(key) {\n",
              "          const element = document.querySelector('#df-a807dc3e-ce37-4fee-9175-026d4131faef');\n",
              "          const dataTable =\n",
              "            await google.colab.kernel.invokeFunction('convertToInteractive',\n",
              "                                                     [key], {});\n",
              "          if (!dataTable) return;\n",
              "\n",
              "          const docLinkHtml = 'Like what you see? Visit the ' +\n",
              "            '<a target=\"_blank\" href=https://colab.research.google.com/notebooks/data_table.ipynb>data table notebook</a>'\n",
              "            + ' to learn more about interactive tables.';\n",
              "          element.innerHTML = '';\n",
              "          dataTable['output_type'] = 'display_data';\n",
              "          await google.colab.output.renderOutput(dataTable, element);\n",
              "          const docLink = document.createElement('div');\n",
              "          docLink.innerHTML = docLinkHtml;\n",
              "          element.appendChild(docLink);\n",
              "        }\n",
              "      </script>\n",
              "    </div>\n",
              "  </div>\n",
              "  "
            ]
          },
          "metadata": {},
          "execution_count": 27
        }
      ]
    },
    {
      "cell_type": "code",
      "source": [
        "print(f'Number of rows: {test_df.shape[0]};  Number of columns: {test_df.shape[1]}; No of missing values: {sum(test_df.isna().sum())}')"
      ],
      "metadata": {
        "colab": {
          "base_uri": "https://localhost:8080/"
        },
        "id": "EbnUJzupzE3F",
        "outputId": "d3851bdf-d52c-4317-9167-4b0b228f28fd"
      },
      "execution_count": 28,
      "outputs": [
        {
          "output_type": "stream",
          "name": "stdout",
          "text": [
            "Number of rows: 314573;  Number of columns: 9; No of missing values: 0\n"
          ]
        }
      ]
    },
    {
      "cell_type": "code",
      "source": [
        "test_df.dtypes"
      ],
      "metadata": {
        "colab": {
          "base_uri": "https://localhost:8080/"
        },
        "id": "CkObmxoozE0M",
        "outputId": "88bed93e-1f2d-406f-9957-930fb0ecc8c6"
      },
      "execution_count": 29,
      "outputs": [
        {
          "output_type": "execute_result",
          "data": {
            "text/plain": [
              "Unnamed: 0              int64\n",
              "demand                float64\n",
              "drybulb               float64\n",
              "dewpnt                float64\n",
              "date           datetime64[ns]\n",
              "year                    int64\n",
              "hour                    int64\n",
              "day_of_year             int64\n",
              "trend                 float64\n",
              "dtype: object"
            ]
          },
          "metadata": {},
          "execution_count": 29
        }
      ]
    },
    {
      "cell_type": "code",
      "source": [
        "X_train = train_df.drop(['date','drybulb'], axis=1).values\n",
        "y_train = train_df['year'].values"
      ],
      "metadata": {
        "id": "zoZ-zUphzErc"
      },
      "execution_count": 30,
      "outputs": []
    },
    {
      "cell_type": "code",
      "source": [
        "from sklearn.preprocessing import StandardScaler"
      ],
      "metadata": {
        "id": "5BMfqVd30WcU"
      },
      "execution_count": 31,
      "outputs": []
    },
    {
      "cell_type": "code",
      "source": [
        "sc = StandardScaler()\n",
        "X_train = sc.fit_transform(X_train)"
      ],
      "metadata": {
        "id": "utxSzqq4z18l"
      },
      "execution_count": 32,
      "outputs": []
    },
    {
      "cell_type": "code",
      "source": [
        "print(\"Shape of X_train:\", X_train.shape)\n",
        "print(\"Shape of y_train:\", y_train.shape)"
      ],
      "metadata": {
        "colab": {
          "base_uri": "https://localhost:8080/"
        },
        "id": "QuBxiSDtz16B",
        "outputId": "e59646ba-8fe1-418b-a602-82ecdbcfeeaf"
      },
      "execution_count": 33,
      "outputs": [
        {
          "output_type": "stream",
          "name": "stdout",
          "text": [
            "Shape of X_train: (1048574, 7)\n",
            "Shape of y_train: (1048574,)\n"
          ]
        }
      ]
    },
    {
      "cell_type": "code",
      "source": [
        "# error rate\n",
        "def error_rate(xtrain, ytrain, x, opts):\n",
        "    # parameters\n",
        "    fold = opts['fold']\n",
        "    xt = fold['xt']\n",
        "    yt = fold['yt']\n",
        "    xv = fold['xv']\n",
        "    yv = fold['yv']\n",
        "    # number of instances\n",
        "    num_train = np.size(xt, 0)\n",
        "    num_valid = np.size(xv, 0)\n",
        "    # Define selected features\n",
        "    xtrain = xt[:, x == 1]\n",
        "    ytrain = yt.reshape(num_train)\n",
        "    xvalid = xv[:, x == 1]\n",
        "    yvalid = yv.reshape(num_valid)\n",
        "    # Training\n",
        "    mdl     = LinearRegression()\n",
        "    mdl.fit(xtrain, ytrain)\n",
        "    # Prediction\n",
        "    ypred   = mdl.predict(xvalid)\n",
        "    error   = mean_squared_error(yvalid, ypred, squared=False)\n",
        "    \n",
        "    return error"
      ],
      "metadata": {
        "id": "SuKIuuqnz13g"
      },
      "execution_count": 34,
      "outputs": []
    },
    {
      "cell_type": "code",
      "source": [
        "# Error rate & Feature size\n",
        "def Fun(xtrain, ytrain, x, opts):\n",
        "    # parameters\n",
        "    alpha = 0.99\n",
        "    beta = 1 - alpha\n",
        "    # original feature size\n",
        "    max_feat = len(x)\n",
        "    # Number of selected features\n",
        "    num_feat = np.sum(x == 1)\n",
        "    # Solve if no feature selected\n",
        "    if num_feat == 0:\n",
        "        cost = 1\n",
        "    else:\n",
        "        # Get error rate\n",
        "        error = error_rate(xtrain, ytrain, x, opts)\n",
        "        # Objective function\n",
        "        cost = alpha * error + beta * (num_feat / max_feat)\n",
        "        \n",
        "    return cost"
      ],
      "metadata": {
        "id": "khQ33sY4z108"
      },
      "execution_count": 35,
      "outputs": []
    },
    {
      "cell_type": "code",
      "source": [
        "def init_position(lb, ub, N, dim):\n",
        "    X = np.zeros([N, dim], dtype='float')\n",
        "    for i in range(N):\n",
        "        for d in range(dim):\n",
        "            X[i,d] = lb[0,d] + (ub[0,d] - lb[0,d]) * rand()        \n",
        "    \n",
        "    return X"
      ],
      "metadata": {
        "id": "Eh2vKb1zz1yS"
      },
      "execution_count": 36,
      "outputs": []
    },
    {
      "cell_type": "code",
      "source": [
        "def init_velocity(lb, ub, N, dim):\n",
        "    V    = np.zeros([N, dim], dtype='float')\n",
        "    Vmax = np.zeros([1, dim], dtype='float')\n",
        "    Vmin = np.zeros([1, dim], dtype='float')\n",
        "    # Maximum & minimum velocity\n",
        "    for d in range(dim):\n",
        "        Vmax[0,d] = (ub[0,d] - lb[0,d]) / 2\n",
        "        Vmin[0,d] = -Vmax[0,d]\n",
        "        \n",
        "    for i in range(N):\n",
        "        for d in range(dim):\n",
        "            V[i,d] = Vmin[0,d] + (Vmax[0,d] - Vmin[0,d]) * rand()\n",
        "        \n",
        "    return V, Vmax, Vmin"
      ],
      "metadata": {
        "id": "YnhJFMAgz1v4"
      },
      "execution_count": 37,
      "outputs": []
    },
    {
      "cell_type": "code",
      "source": [
        "def binary_conversion(X, thres, N, dim):\n",
        "    Xbin = np.zeros([N, dim], dtype='int')\n",
        "    for i in range(N):\n",
        "        for d in range(dim):\n",
        "            if X[i,d] > thres:\n",
        "                Xbin[i,d] = 1\n",
        "            else:\n",
        "                Xbin[i,d] = 0\n",
        "    \n",
        "    return Xbin"
      ],
      "metadata": {
        "id": "etbC_XHFz1te"
      },
      "execution_count": 38,
      "outputs": []
    },
    {
      "cell_type": "code",
      "source": [
        "def boundary(x, lb, ub):\n",
        "    if x < lb:\n",
        "        x = lb\n",
        "    if x > ub:\n",
        "        x = ub\n",
        "    \n",
        "    return x"
      ],
      "metadata": {
        "id": "bZGc-5a-z1q9"
      },
      "execution_count": 39,
      "outputs": []
    },
    {
      "cell_type": "code",
      "source": [
        "def jfs(xtrain, ytrain, opts):\n",
        "    # Parameters\n",
        "    ub    = 1\n",
        "    lb    = 0\n",
        "    thres = 0.5\n",
        "    w     = 0.9    # inertia weight\n",
        "    c1    = 2      # acceleration factor\n",
        "    c2    = 2      # acceleration factor\n",
        "    \n",
        "    N        = opts['N']\n",
        "    max_iter = opts['T']\n",
        "    if 'w' in opts:\n",
        "        w    = opts['w']\n",
        "    if 'c1' in opts:\n",
        "        c1   = opts['c1']\n",
        "    if 'c2' in opts:\n",
        "        c2   = opts['c2'] \n",
        "    \n",
        "    # Dimension\n",
        "    dim = np.size(xtrain, 1)\n",
        "    if np.size(lb) == 1:\n",
        "        ub = ub * np.ones([1, dim], dtype='float')\n",
        "        lb = lb * np.ones([1, dim], dtype='float')\n",
        "        \n",
        "    # Initialize position & velocity\n",
        "    X             = init_position(lb, ub, N, dim)\n",
        "    V, Vmax, Vmin = init_velocity(lb, ub, N, dim) \n",
        "    \n",
        "    # Pre\n",
        "    fit   = np.zeros([N, 1], dtype='float')\n",
        "    Xgb   = np.zeros([1, dim], dtype='float')\n",
        "    fitG  = float('inf')\n",
        "    Xpb   = np.zeros([N, dim], dtype='float')\n",
        "    fitP  = float('inf') * np.ones([N, 1], dtype='float')\n",
        "    curve = np.zeros([1, max_iter], dtype='float') \n",
        "    t     = 0\n",
        "    \n",
        "    while t < max_iter:\n",
        "        # Binary conversion\n",
        "        Xbin = binary_conversion(X, thres, N, dim)\n",
        "        \n",
        "        # Fitness\n",
        "        for i in range(N):\n",
        "            fit[i,0] = Fun(xtrain, ytrain, Xbin[i,:], opts)\n",
        "            if fit[i,0] < fitP[i,0]:\n",
        "                Xpb[i,:]  = X[i,:]\n",
        "                fitP[i,0] = fit[i,0]\n",
        "            if fitP[i,0] < fitG:\n",
        "                Xgb[0,:]  = Xpb[i,:]\n",
        "                fitG      = fitP[i,0]\n",
        "        \n",
        "        # Store result\n",
        "        curve[0,t] = fitG.copy()\n",
        "        print(\"Iteration:\", t + 1)\n",
        "        print(\"Best (PSO):\", curve[0,t])\n",
        "        t += 1\n",
        "        \n",
        "        for i in range(N):\n",
        "            for d in range(dim):\n",
        "                # Update velocity\n",
        "                r1     = rand()\n",
        "                r2     = rand()\n",
        "                V[i,d] = w * V[i,d] + c1 * r1 * (Xpb[i,d] - X[i,d]) + c2 * r2 * (Xgb[0,d] - X[i,d]) \n",
        "                # Boundary\n",
        "                V[i,d] = boundary(V[i,d], Vmin[0,d], Vmax[0,d])\n",
        "                # Update position\n",
        "                X[i,d] = X[i,d] + V[i,d]\n",
        "                # Boundary\n",
        "                X[i,d] = boundary(X[i,d], lb[0,d], ub[0,d])\n",
        "    \n",
        "                \n",
        "    # Best feature subset\n",
        "    Gbin       = binary_conversion(Xgb, thres, 1, dim) \n",
        "    Gbin       = Gbin.reshape(dim)\n",
        "    pos        = np.asarray(range(0, dim))    \n",
        "    sel_index  = pos[Gbin == 1]\n",
        "    num_feat   = len(sel_index)\n",
        "    # Create dictionary\n",
        "    pso_data = {'sf': sel_index, 'c': curve, 'nf': num_feat}\n",
        "    \n",
        "    return pso_data"
      ],
      "metadata": {
        "id": "hr9KCAYTz1oU"
      },
      "execution_count": 40,
      "outputs": []
    },
    {
      "cell_type": "code",
      "source": [
        "xtrain, xtest, ytrain, ytest = train_test_split(X_train, y_train, test_size=0.3, shuffle=True)\n",
        "fold = {'xt':xtrain, 'yt':ytrain, 'xv':xtest, 'yv':ytest}"
      ],
      "metadata": {
        "id": "611GwiwB03mV"
      },
      "execution_count": 41,
      "outputs": []
    },
    {
      "cell_type": "code",
      "source": [
        "c1  = 2         # cognitive factor\n",
        "c2  = 2         # social factor \n",
        "w   = 0.9       # inertia weight\n",
        "k     = 5     # k-value\n",
        "N     = 20    # number of pipeline\n",
        "T     = 100   # maximum number of iterations\n",
        "opts = {'k':k, 'fold':fold, 'N':N, 'T':T, 'w':w, 'c1':c1, 'c2':c2}"
      ],
      "metadata": {
        "id": "dbZQGKWm03kk"
      },
      "execution_count": 42,
      "outputs": []
    },
    {
      "cell_type": "code",
      "source": [],
      "metadata": {
        "id": "qflfHl7O03QT"
      },
      "execution_count": 42,
      "outputs": []
    },
    {
      "cell_type": "code",
      "execution_count": 43,
      "metadata": {
        "id": "HMIevtuKyWUe"
      },
      "outputs": [],
      "source": [
        "train = train_df\n",
        "scalers={}\n",
        "for i in train_df.columns:\n",
        "    scaler = MinMaxScaler(feature_range=(-1,1))\n",
        "    s_s = scaler.fit_transform(train[i].values.reshape(-1,1))\n",
        "    s_s=np.reshape(s_s,len(s_s))\n",
        "    scalers['scaler_'+ i] = scaler\n",
        "    train[i]=s_s\n",
        "test = test_df\n",
        "for i in train_df.columns:\n",
        "    scaler = scalers['scaler_'+i]\n",
        "    s_s = scaler.transform(test[i].values.reshape(-1,1))\n",
        "    s_s=np.reshape(s_s,len(s_s))\n",
        "    scalers['scaler_'+i] = scaler\n",
        "    test[i]=s_s"
      ]
    },
    {
      "cell_type": "code",
      "execution_count": 44,
      "metadata": {
        "id": "zu2d5pOUyWXH"
      },
      "outputs": [],
      "source": [
        "def split_series(series, n_past, n_future):\n",
        "  \n",
        "  X, y = list(), list()\n",
        "  for window_start in range(len(series)):\n",
        "    past_end = window_start + n_past\n",
        "    future_end = past_end + n_future\n",
        "    if future_end > len(series):\n",
        "      break\n",
        "    past, future = series[window_start:past_end, :], series[past_end:future_end, :]\n",
        "    X.append(past)\n",
        "    y.append(future)\n",
        "  return np.array(X), np.array(y)"
      ]
    },
    {
      "cell_type": "code",
      "execution_count": 45,
      "metadata": {
        "id": "2h9BlGQ5yWZn"
      },
      "outputs": [],
      "source": [
        "n_past = 14\n",
        "n_future = 4 \n",
        "n_features = 9"
      ]
    },
    {
      "cell_type": "code",
      "execution_count": 46,
      "metadata": {
        "id": "w0ayjwwwyWcB"
      },
      "outputs": [],
      "source": [
        "X_train, y_train = split_series(train.values,n_past, n_future)\n",
        "X_train = X_train.reshape((X_train.shape[0], X_train.shape[1],n_features))\n",
        "y_train = y_train.reshape((y_train.shape[0], y_train.shape[1], n_features))\n",
        "X_test, y_test = split_series(test.values,n_past, n_future)\n",
        "X_test = X_test.reshape((X_test.shape[0], X_test.shape[1],n_features))\n",
        "y_test = y_test.reshape((y_test.shape[0], y_test.shape[1], n_features))"
      ]
    },
    {
      "cell_type": "markdown",
      "source": [],
      "metadata": {
        "id": "xNQwOUHyyXHb"
      }
    },
    {
      "cell_type": "code",
      "source": [
        "def MCRMSE(y_true, y_pred):\n",
        "    colwise_mse = tf.reduce_mean(tf.square(y_true - y_pred), axis=1)\n",
        "    return tf.reduce_mean(tf.sqrt(colwise_mse), axis=1)"
      ],
      "metadata": {
        "id": "edYHbJkIyWwL"
      },
      "execution_count": 47,
      "outputs": []
    },
    {
      "cell_type": "code",
      "source": [
        "def gru_layer(hidden_dim, dropout):\n",
        "    return L.Bidirectional(L.GRU(\n",
        "        hidden_dim, dropout=dropout, return_sequences=True, kernel_initializer='orthogonal'))"
      ],
      "metadata": {
        "id": "Qtmb7wHqyYl8"
      },
      "execution_count": 48,
      "outputs": []
    },
    {
      "cell_type": "code",
      "source": [
        "def build_model(embed_size, seq_len=107, pred_len=68, dropout=0.5, \n",
        "                sp_dropout=0.2, embed_dim=200, hidden_dim=256, n_layers=3):\n",
        "    inputs = L.Input(shape=(seq_len, 3))\n",
        "    embed = L.Embedding(input_dim=embed_size, output_dim=embed_dim)(inputs)\n",
        "    \n",
        "    reshaped = tf.reshape(\n",
        "        embed, shape=(-1, embed.shape[1],  embed.shape[2] * embed.shape[3])\n",
        "    )\n",
        "    hidden = L.SpatialDropout1D(sp_dropout)(reshaped)\n",
        "    \n",
        "    for x in range(n_layers):\n",
        "        hidden = gru_layer(hidden_dim, dropout)(hidden)\n",
        "    \n",
        "    # Since we are only making predictions on the first part of each sequence, \n",
        "    # we have to truncate it\n",
        "    truncated = hidden[:, :pred_len]\n",
        "    out = L.Dense(5, activation='linear')(truncated)\n",
        "    \n",
        "    model = tf.keras.Model(inputs=inputs, outputs=out)\n",
        "    model.compile(tf.optimizers.Adam(), loss=MCRMSE)\n",
        "    \n",
        "    return model\n",
        "    "
      ],
      "metadata": {
        "id": "KPxrF6U4yYcR"
      },
      "execution_count": 49,
      "outputs": []
    },
    {
      "cell_type": "code",
      "source": [],
      "metadata": {
        "id": "a5gwkvnHQF_-"
      },
      "execution_count": 49,
      "outputs": []
    },
    {
      "cell_type": "code",
      "source": [],
      "metadata": {
        "id": "24wPYqHUyYLr"
      },
      "execution_count": 49,
      "outputs": []
    },
    {
      "cell_type": "code",
      "execution_count": 50,
      "metadata": {
        "colab": {
          "base_uri": "https://localhost:8080/"
        },
        "id": "X0HECVTNyWeZ",
        "outputId": "9b8ce613-8228-49be-fba7-3f0a99165d90"
      },
      "outputs": [
        {
          "output_type": "stream",
          "name": "stdout",
          "text": [
            "Model: \"model\"\n",
            "__________________________________________________________________________________________________\n",
            " Layer (type)                   Output Shape         Param #     Connected to                     \n",
            "==================================================================================================\n",
            " input_1 (InputLayer)           [(None, 14, 9)]      0           []                               \n",
            "                                                                                                  \n",
            " lstm (LSTM)                    [(None, 100),        44000       ['input_1[0][0]']                \n",
            "                                 (None, 100),                                                     \n",
            "                                 (None, 100)]                                                     \n",
            "                                                                                                  \n",
            " repeat_vector (RepeatVector)   (None, 4, 100)       0           ['lstm[0][0]']                   \n",
            "                                                                                                  \n",
            " lstm_1 (LSTM)                  (None, 4, 100)       80400       ['repeat_vector[0][0]',          \n",
            "                                                                  'lstm[0][1]',                   \n",
            "                                                                  'lstm[0][2]']                   \n",
            "                                                                                                  \n",
            " time_distributed (TimeDistribu  (None, 4, 9)        909         ['lstm_1[0][0]']                 \n",
            " ted)                                                                                             \n",
            "                                                                                                  \n",
            "==================================================================================================\n",
            "Total params: 125,309\n",
            "Trainable params: 125,309\n",
            "Non-trainable params: 0\n",
            "__________________________________________________________________________________________________\n"
          ]
        }
      ],
      "source": [
        "encoder_inputs = tf.keras.layers.Input(shape=(n_past, n_features))\n",
        "encoder_l1 = tf.keras.layers.LSTM(100, return_state=True)\n",
        "encoder_outputs1 = encoder_l1(encoder_inputs)\n",
        "\n",
        "encoder_states1 = encoder_outputs1[1:]\n",
        "\n",
        "decoder_inputs = tf.keras.layers.RepeatVector(n_future)(encoder_outputs1[0])\n",
        "\n",
        "decoder_l1 = tf.keras.layers.LSTM(100, return_sequences=True)(decoder_inputs,initial_state = encoder_states1)\n",
        "decoder_outputs1 = tf.keras.layers.TimeDistributed(tf.keras.layers.Dense(n_features))(decoder_l1)\n",
        "\n",
        "model_e1d1 = tf.keras.models.Model(encoder_inputs,decoder_outputs1)\n",
        "\n",
        "model_e1d1.summary()"
      ]
    },
    {
      "cell_type": "code",
      "execution_count": 51,
      "metadata": {
        "colab": {
          "base_uri": "https://localhost:8080/"
        },
        "id": "LRbf3t2myWgk",
        "outputId": "aff901fb-21fe-4067-a5d7-c84a689d730e"
      },
      "outputs": [
        {
          "output_type": "stream",
          "name": "stdout",
          "text": [
            "Model: \"model_1\"\n",
            "__________________________________________________________________________________________________\n",
            " Layer (type)                   Output Shape         Param #     Connected to                     \n",
            "==================================================================================================\n",
            " input_2 (InputLayer)           [(None, 14, 9)]      0           []                               \n",
            "                                                                                                  \n",
            " lstm_2 (LSTM)                  [(None, 14, 100),    44000       ['input_2[0][0]']                \n",
            "                                 (None, 100),                                                     \n",
            "                                 (None, 100)]                                                     \n",
            "                                                                                                  \n",
            " lstm_3 (LSTM)                  [(None, 100),        80400       ['lstm_2[0][0]']                 \n",
            "                                 (None, 100),                                                     \n",
            "                                 (None, 100)]                                                     \n",
            "                                                                                                  \n",
            " repeat_vector_1 (RepeatVector)  (None, 4, 100)      0           ['lstm_3[0][0]']                 \n",
            "                                                                                                  \n",
            " lstm_4 (LSTM)                  (None, 4, 100)       80400       ['repeat_vector_1[0][0]',        \n",
            "                                                                  'lstm_2[0][1]',                 \n",
            "                                                                  'lstm_2[0][2]']                 \n",
            "                                                                                                  \n",
            " lstm_5 (LSTM)                  (None, 4, 100)       80400       ['lstm_4[0][0]',                 \n",
            "                                                                  'lstm_3[0][1]',                 \n",
            "                                                                  'lstm_3[0][2]']                 \n",
            "                                                                                                  \n",
            " time_distributed_1 (TimeDistri  (None, 4, 9)        909         ['lstm_5[0][0]']                 \n",
            " buted)                                                                                           \n",
            "                                                                                                  \n",
            "==================================================================================================\n",
            "Total params: 286,109\n",
            "Trainable params: 286,109\n",
            "Non-trainable params: 0\n",
            "__________________________________________________________________________________________________\n"
          ]
        }
      ],
      "source": [
        "encoder_inputs = tf.keras.layers.Input(shape=(n_past, n_features))\n",
        "encoder_l1 = tf.keras.layers.LSTM(100,return_sequences = True, return_state=True)\n",
        "encoder_outputs1 = encoder_l1(encoder_inputs)\n",
        "encoder_states1 = encoder_outputs1[1:]\n",
        "encoder_l2 = tf.keras.layers.LSTM(100, return_state=True)\n",
        "encoder_outputs2 = encoder_l2(encoder_outputs1[0])\n",
        "encoder_states2 = encoder_outputs2[1:]\n",
        "\n",
        "decoder_inputs = tf.keras.layers.RepeatVector(n_future)(encoder_outputs2[0])\n",
        "\n",
        "decoder_l1 = tf.keras.layers.LSTM(100, return_sequences=True)(decoder_inputs,initial_state = encoder_states1)\n",
        "decoder_l2 = tf.keras.layers.LSTM(100, return_sequences=True)(decoder_l1,initial_state = encoder_states2)\n",
        "decoder_outputs2 = tf.keras.layers.TimeDistributed(tf.keras.layers.Dense(n_features))(decoder_l2)\n",
        "\n",
        "model_e2d2 = tf.keras.models.Model(encoder_inputs,decoder_outputs2)\n",
        "\n",
        "model_e2d2.summary()"
      ]
    },
    {
      "cell_type": "code",
      "execution_count": 52,
      "metadata": {
        "id": "7wfGUIR1yWiy"
      },
      "outputs": [],
      "source": [
        "reduce_lr = tf.keras.callbacks.LearningRateScheduler(lambda x: 1e-3 * 0.90 ** x)\n",
        "model_e1d1.compile(optimizer=tf.keras.optimizers.Adam(), loss=tf.keras.losses.Huber())\n",
        "history_e1d1=model_e1d1.fit(X_train,y_train,epochs=5,validation_data=(X_test,y_test),batch_size=64,verbose=0,callbacks=[reduce_lr])\n"
      ]
    },
    {
      "cell_type": "code",
      "execution_count": 53,
      "metadata": {
        "id": "5RF_BYuCB5rP"
      },
      "outputs": [],
      "source": [
        "#model_e2d2.compile(optimizer=tf.keras.optimizers.Adam(), loss=tf.keras.losses.Huber())\n",
        "#history_e2d2=model_e2d2.fit(X_train,y_train,epochs=5,validation_data=(X_test,y_test),batch_size=64,verbose=0,callbacks=[reduce_lr])"
      ]
    },
    {
      "cell_type": "code",
      "execution_count": 54,
      "metadata": {
        "colab": {
          "base_uri": "https://localhost:8080/"
        },
        "id": "KbprxTD2yWla",
        "outputId": "620182c6-a49f-4de2-f8d3-660ad287880e"
      },
      "outputs": [
        {
          "output_type": "stream",
          "name": "stdout",
          "text": [
            "9830/9830 [==============================] - 65s 7ms/step\n"
          ]
        }
      ],
      "source": [
        "pred_e1d1=model_e1d1.predict(X_test)\n",
        "#pred_e2d2=model_e2d2.predict(X_test)"
      ]
    },
    {
      "cell_type": "code",
      "execution_count": 55,
      "metadata": {
        "id": "dxrWWR114mQ0"
      },
      "outputs": [],
      "source": [
        "# evaluate the model\n",
        "X_train = model_e1d1.evaluate(X_train, y_train, verbose=0)\n",
        "X_test = model_e1d1.evaluate(X_test, y_test, verbose=0)"
      ]
    },
    {
      "cell_type": "code",
      "source": [
        "# evaluate the model\n",
        "#X_train = model_e2d2.evaluate(X_train, y_train, verbose=0)\n",
        "#X_test = model_e2d2.evaluate(X_test, y_test, verbose=0)"
      ],
      "metadata": {
        "id": "GI2RN-jljVc1"
      },
      "execution_count": null,
      "outputs": []
    },
    {
      "cell_type": "code",
      "execution_count": 55,
      "metadata": {
        "id": "m0MDHL9W4l0N"
      },
      "outputs": [],
      "source": []
    },
    {
      "cell_type": "code",
      "execution_count": 56,
      "metadata": {
        "id": "3uULy-KXyWnz"
      },
      "outputs": [],
      "source": [
        "for index,i in enumerate(train_df.columns):\n",
        "    scaler = scalers['scaler_'+i]\n",
        "    pred_e1d1[:,:,index]=scaler.inverse_transform(pred_e1d1[:,:,index])\n",
        "    #pred_e2d2[:,:,index]=scaler.inverse_transform(pred_e2d2[:,:,index])\n",
        "    y_train[:,:,index]=scaler.inverse_transform(y_train[:,:,index])\n",
        "    y_test[:,:,index]=scaler.inverse_transform(y_test[:,:,index])"
      ]
    },
    {
      "cell_type": "code",
      "execution_count": 56,
      "metadata": {
        "id": "8qZjHv7JB0PT"
      },
      "outputs": [],
      "source": []
    },
    {
      "cell_type": "code",
      "execution_count": 58,
      "metadata": {
        "colab": {
          "base_uri": "https://localhost:8080/"
        },
        "id": "ieQJZj_FyWqN",
        "outputId": "3a31d57e-b739-47c6-ae3a-23c147d5e717"
      },
      "outputs": [
        {
          "output_type": "stream",
          "name": "stdout",
          "text": [
            "Unnamed: 0\n",
            "Day  1 :\n",
            "MAE-E1D1 :  1321.3333124705935, Day  2 :\n",
            "MAE-E1D1 :  1245.4587515815945, Day  3 :\n",
            "MAE-E1D1 :  1201.6818308981549, Day  4 :\n",
            "MAE-E1D1 :  1162.3234894978955, \n",
            "\n",
            "demand\n",
            "Day  1 :\n",
            "MAE-E1D1 :  24.607054865029426, Day  2 :\n",
            "MAE-E1D1 :  24.315692076319017, Day  3 :\n",
            "MAE-E1D1 :  25.813094521583984, Day  4 :\n",
            "MAE-E1D1 :  26.69116097498413, \n",
            "\n",
            "drybulb\n",
            "Day  1 :\n",
            "MAE-E1D1 :  0.3334051466331993, Day  2 :\n",
            "MAE-E1D1 :  0.3137365232780103, Day  3 :\n",
            "MAE-E1D1 :  0.3324186329827282, Day  4 :\n",
            "MAE-E1D1 :  0.3081551810655195, \n",
            "\n",
            "dewpnt\n",
            "Day  1 :\n",
            "MAE-E1D1 :  0.13463633468900485, Day  2 :\n",
            "MAE-E1D1 :  0.12963812813827763, Day  3 :\n",
            "MAE-E1D1 :  0.1384340849221798, Day  4 :\n",
            "MAE-E1D1 :  0.1332153919831978, \n",
            "\n",
            "date\n",
            "Day  1 :\n",
            "MAE-E1D1 :  198186419831636.9, Day  2 :\n",
            "MAE-E1D1 :  170033872280415.4, Day  3 :\n",
            "MAE-E1D1 :  169811729799857.47, Day  4 :\n",
            "MAE-E1D1 :  208595237178251.4, \n",
            "\n",
            "year\n",
            "Day  1 :\n",
            "MAE-E1D1 :  0.005610543363115159, Day  2 :\n",
            "MAE-E1D1 :  0.005877285677700179, Day  3 :\n",
            "MAE-E1D1 :  0.005821516267674149, Day  4 :\n",
            "MAE-E1D1 :  0.006829138870171032, \n",
            "\n",
            "hour\n",
            "Day  1 :\n",
            "MAE-E1D1 :  0.028868183188917106, Day  2 :\n",
            "MAE-E1D1 :  0.02732751398684017, Day  3 :\n",
            "MAE-E1D1 :  0.031058827033218824, Day  4 :\n",
            "MAE-E1D1 :  0.03383114140637408, \n",
            "\n",
            "day_of_year\n",
            "Day  1 :\n",
            "MAE-E1D1 :  0.30003608201972876, Day  2 :\n",
            "MAE-E1D1 :  0.3192752254192065, Day  3 :\n",
            "MAE-E1D1 :  0.40539563005701124, Day  4 :\n",
            "MAE-E1D1 :  0.4870963586536558, \n",
            "\n",
            "trend\n",
            "Day  1 :\n",
            "MAE-E1D1 :  100.37237008635438, Day  2 :\n",
            "MAE-E1D1 :  88.09994678013307, Day  3 :\n",
            "MAE-E1D1 :  90.15557665432432, Day  4 :\n",
            "MAE-E1D1 :  95.47946174884835, \n",
            "\n"
          ]
        }
      ],
      "source": [
        "from sklearn.metrics import mean_absolute_error\n",
        "for index,i in enumerate(train_df.columns):\n",
        "  print(i)\n",
        "  for j in range(1,5):\n",
        "    print(\"Day \",j,\":\")\n",
        "    print(\"MAE-E1D1 : \",mean_absolute_error(y_test[:,j-1,index],pred_e1d1[:,j-1,index]),end=\", \")\n",
        "    #print(\"MAE-E2D2 : \",mean_absolute_error(y_test[:,j-1,index],pred_e2d2[:,j-1,index]))\n",
        "  print()\n",
        "  print()"
      ]
    },
    {
      "cell_type": "code",
      "source": [
        "def MCRMSE(y_true, y_pred):\n",
        "    colwise_mse = tf.reduce_mean(tf.square(y_true - y_pred), axis=1)\n",
        "    return tf.reduce_mean(tf.sqrt(colwise_mse), axis=1)"
      ],
      "metadata": {
        "id": "bKi2ZUUkwkAn"
      },
      "execution_count": 59,
      "outputs": []
    },
    {
      "cell_type": "code",
      "source": [
        "def gru_layer(hidden_dim, dropout):\n",
        "    return L.Bidirectional(L.GRU(\n",
        "        hidden_dim, dropout=dropout, return_sequences=True, kernel_initializer='orthogonal'))"
      ],
      "metadata": {
        "id": "HCaJ63vHwj9N"
      },
      "execution_count": 60,
      "outputs": []
    },
    {
      "cell_type": "code",
      "source": [
        "def build_model(embed_size, seq_len=107, pred_len=68, dropout=0.5, \n",
        "                sp_dropout=0.2, embed_dim=200, hidden_dim=256, n_layers=3):\n",
        "    inputs = L.Input(shape=(seq_len, 3))\n",
        "    embed = L.Embedding(input_dim=embed_size, output_dim=embed_dim)(inputs)\n",
        "    \n",
        "    reshaped = tf.reshape(\n",
        "        embed, shape=(-1, embed.shape[1],  embed.shape[2] * embed.shape[3])\n",
        "    )\n",
        "    hidden = L.SpatialDropout1D(sp_dropout)(reshaped)\n",
        "    \n",
        "    for x in range(n_layers):\n",
        "        hidden = gru_layer(hidden_dim, dropout)(hidden)\n",
        "    \n",
        "    # Since we are only making predictions on the first part of each sequence, \n",
        "    # we have to truncate it\n",
        "    truncated = hidden[:, :pred_len]\n",
        "    out = L.Dense(5, activation='linear')(truncated)\n",
        "    \n",
        "    model = tf.keras.Model(inputs=inputs, outputs=out)\n",
        "    model.compile(tf.optimizers.Adam(), loss=MCRMSE)\n",
        "    \n",
        "    return model"
      ],
      "metadata": {
        "id": "HVJlO12Qwjy_"
      },
      "execution_count": 61,
      "outputs": []
    },
    {
      "cell_type": "code",
      "source": [
        "y_pred = (model_e1d1.predict(y_test) >= 0.5).astype(\"int\")"
      ],
      "metadata": {
        "colab": {
          "base_uri": "https://localhost:8080/"
        },
        "id": "MUVZccU8GMFV",
        "outputId": "38d36705-aa45-40ff-edb9-cdd6c20e0566"
      },
      "execution_count": 62,
      "outputs": [
        {
          "output_type": "stream",
          "name": "stdout",
          "text": [
            "9830/9830 [==============================] - 44s 4ms/step\n"
          ]
        }
      ]
    },
    {
      "cell_type": "code",
      "source": [
        "X_train = np.asarray(X_train)\n",
        "y_train = np.asarray(y_train)\n",
        "#validation_x = np.asarray(validation_x)\n",
        "#validation_y = np.asarray(validation_y)"
      ],
      "metadata": {
        "id": "QHjxfbP7O-Pf"
      },
      "execution_count": 63,
      "outputs": []
    },
    {
      "cell_type": "code",
      "source": [
        "model_e1d1.evaluate(X_test, y_pred)"
      ],
      "metadata": {
        "id": "cjitvU4cN9jo"
      },
      "execution_count": 66,
      "outputs": []
    },
    {
      "cell_type": "markdown",
      "source": [
        "**All of your work as per say you, have done **"
      ],
      "metadata": {
        "id": "rcHw0bb0jsQd"
      }
    }
  ],
  "metadata": {
    "colab": {
      "provenance": [],
      "collapsed_sections": [],
      "mount_file_id": "173v0jW4SxxgFdbWO0mZ-ficUnwFtg31C",
      "authorship_tag": "ABX9TyMXJPzJeThMT/4/dZbwySU9",
      "include_colab_link": true
    },
    "gpuClass": "standard",
    "kernelspec": {
      "display_name": "Python 3",
      "name": "python3"
    },
    "language_info": {
      "name": "python"
    }
  },
  "nbformat": 4,
  "nbformat_minor": 0
}